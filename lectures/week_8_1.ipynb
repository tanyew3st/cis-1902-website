{
 "cells": [
  {
   "cell_type": "code",
   "execution_count": null,
   "metadata": {
    "slideshow": {
     "slide_type": "slide"
    }
   },
   "outputs": [],
   "source": [
    "import numpy as np\n",
    "import pandas as pd\n",
    "import operator\n",
    "import matplotlib.pyplot as plt\n",
    "from sklearn.linear_model import LinearRegression\n",
    "from sklearn.metrics import mean_squared_error\n",
    "from sklearn.preprocessing import PolynomialFeatures\n",
    "from sklearn.model_selection import train_test_split\n",
    "\n",
    "# Generating sample data\n",
    "np.random.seed(0)  # For reproducibility\n",
    "x = 2 - 3 * np.random.normal(0, 1, 100)\n",
    "y = x - 2 * (x**2) + np.random.normal(-3, 3, 100)\n",
    "\n",
    "# Splitting the data for training and testing\n",
    "X_train, X_test, y_train, y_test = train_test_split(\n",
    "    x.reshape(-1, 1), y, test_size=0.2, random_state=42\n",
    ")"
   ]
  },
  {
   "cell_type": "code",
   "execution_count": null,
   "metadata": {
    "slideshow": {
     "slide_type": "subslide"
    }
   },
   "outputs": [],
   "source": [
    "# Linear regression model\n",
    "lin_reg = LinearRegression()\n",
    "\n",
    "# Training the linear regression model on original data\n",
    "lin_reg.fit(X_train, y_train)\n",
    "y_pred_lin = lin_reg.predict(X_test)\n",
    "mse_linear = mean_squared_error(y_test, y_pred_lin)\n",
    "\n",
    "# Polynomial Features\n",
    "poly_features = PolynomialFeatures(degree=2)\n",
    "X_poly_train = poly_features.fit_transform(X_train)\n",
    "X_poly_test = poly_features.transform(X_test)\n",
    "\n",
    "# Training the linear regression model on polynomial transformed data\n",
    "lin_reg.fit(X_poly_train, y_train)\n",
    "y_pred_poly = lin_reg.predict(X_poly_test)\n",
    "mse_poly = mean_squared_error(y_test, y_pred_poly)"
   ]
  },
  {
   "cell_type": "code",
   "execution_count": null,
   "metadata": {
    "slideshow": {
     "slide_type": "subslide"
    }
   },
   "outputs": [],
   "source": [
    "# Plotting the data and the models\n",
    "plt.figure(figsize=(14, 6))\n",
    "\n",
    "# Original data\n",
    "plt.subplot(1, 2, 1)\n",
    "plt.scatter(X_train, y_train, color=\"blue\", label=\"Training data\")\n",
    "plt.scatter(X_test, y_test, color=\"green\", label=\"Test data\")\n",
    "plt.plot(X_test, y_pred_lin, color=\"red\", label=\"Linear Model\")\n",
    "plt.title(f\"Linear Regression\\nMSE: {mse_linear:.2f}\")\n",
    "plt.legend()\n",
    "\n",
    "# Data with Polynomial Features\n",
    "plt.subplot(1, 2, 2)\n",
    "plt.scatter(X_train, y_train, color=\"blue\", label=\"Training data\")\n",
    "plt.scatter(X_test, y_test, color=\"green\", label=\"Test data\")\n",
    "# Sorting for plotting\n",
    "sort_axis = operator.itemgetter(0)\n",
    "sorted_zip = sorted(zip(X_test, y_pred_poly), key=sort_axis)\n",
    "X_test_sorted, y_pred_poly_sorted = zip(*sorted_zip)\n",
    "plt.plot(X_test_sorted, y_pred_poly_sorted, color=\"red\", label=\"Polynomial Model\")\n",
    "plt.title(f\"Polynomial Regression\\nMSE: {mse_poly:.2f}\")\n",
    "plt.legend()\n",
    "\n",
    "plt.tight_layout()\n",
    "plt.show()\n",
    "\n",
    "mse_linear, mse_poly"
   ]
  },
  {
   "cell_type": "code",
   "execution_count": null,
   "metadata": {
    "slideshow": {
     "slide_type": "subslide"
    }
   },
   "outputs": [],
   "source": [
    "mse_linear, mse_poly"
   ]
  },
  {
   "cell_type": "code",
   "execution_count": null,
   "metadata": {
    "slideshow": {
     "slide_type": "subslide"
    }
   },
   "outputs": [],
   "source": [
    "import numpy as np\n",
    "import matplotlib.pyplot as plt\n",
    "from sklearn.model_selection import train_test_split\n",
    "from sklearn.metrics import mean_squared_error\n",
    "from sklearn.preprocessing import PolynomialFeatures\n",
    "from sklearn.linear_model import LinearRegression, Lasso, Ridge\n",
    "\n",
    "# Generating synthetic data\n",
    "np.random.seed(0)\n",
    "x = np.random.rand(100, 1) * 10\n",
    "y = 2 * (x - 5) ** 2 + np.random.randn(100, 1) * 2\n",
    "\n",
    "# Splitting the data\n",
    "X_train, X_test, y_train, y_test = train_test_split(\n",
    "    x, y, test_size=0.2, random_state=42\n",
    ")\n",
    "\n",
    "# Plot the data\n",
    "plt.scatter(x, y)"
   ]
  },
  {
   "cell_type": "code",
   "execution_count": null,
   "metadata": {
    "slideshow": {
     "slide_type": "subslide"
    }
   },
   "outputs": [],
   "source": [
    "# Transforming data with Polynomial Features\n",
    "poly = PolynomialFeatures(degree=25)\n",
    "X_train_poly = poly.fit_transform(X_train)\n",
    "X_test_poly = poly.transform(X_test)\n",
    "\n",
    "# Linear Regression with high-degree polynomial features\n",
    "model = LinearRegression()\n",
    "model.fit(X_train_poly, y_train)\n",
    "y_pred = model.predict(X_test_poly)\n",
    "\n",
    "# MSE of the Linear Regression model\n",
    "mse_linear = mean_squared_error(y_test, y_pred)\n",
    "print(f\"MSE (Linear Regression): {mse_linear:.2f}\")"
   ]
  },
  {
   "cell_type": "code",
   "execution_count": null,
   "metadata": {
    "slideshow": {
     "slide_type": "subslide"
    }
   },
   "outputs": [],
   "source": [
    "# Lasso Regression with polynomial features\n",
    "lasso_model = Lasso(alpha=0.01, max_iter=10000)\n",
    "lasso_model.fit(X_train_poly, y_train)\n",
    "y_pred_lasso = lasso_model.predict(X_test_poly)\n",
    "\n",
    "# MSE of the Lasso model\n",
    "mse_lasso = mean_squared_error(y_test, y_pred_lasso)\n",
    "print(f\"MSE (Lasso): {mse_lasso:.2f}\")"
   ]
  },
  {
   "cell_type": "markdown",
   "metadata": {
    "slideshow": {
     "slide_type": "slide"
    }
   },
   "source": [
    "## Let's talk PyTorch\n"
   ]
  },
  {
   "cell_type": "code",
   "execution_count": 1,
   "metadata": {
    "slideshow": {
     "slide_type": "subslide"
    }
   },
   "outputs": [
    {
     "name": "stdout",
     "output_type": "stream",
     "text": [
      "Zeros:\n",
      " tensor([[0., 0., 0.],\n",
      "        [0., 0., 0.]])\n",
      "Ones:\n",
      " tensor([[1., 1., 1.],\n",
      "        [1., 1., 1.]])\n",
      "Empty (uninitialized):\n",
      " tensor([[0., 0., 0.],\n",
      "        [0., 0., 0.]])\n",
      "From list:\n",
      " tensor([[1, 2, 3],\n",
      "        [4, 5, 6]])\n"
     ]
    }
   ],
   "source": [
    "# Import PyTorch\n",
    "import torch\n",
    "\n",
    "# Create a tensor of size 2x3 filled with zeros\n",
    "zeros = torch.zeros(2, 3)\n",
    "\n",
    "# Create a tensor of size 2x3 filled with ones\n",
    "ones = torch.ones(2, 3)\n",
    "\n",
    "# Create a tensor of size 2x3 with uninitialized memory\n",
    "empty = torch.empty(2, 3)\n",
    "\n",
    "# Create a tensor from a list\n",
    "from_list = torch.tensor([[1, 2, 3], [4, 5, 6]])\n",
    "\n",
    "# Print the created tensors\n",
    "print(\"Zeros:\\n\", zeros)\n",
    "print(\"Ones:\\n\", ones)\n",
    "print(\"Empty (uninitialized):\\n\", empty)\n",
    "print(\"From list:\\n\", from_list)"
   ]
  },
  {
   "cell_type": "code",
   "execution_count": 2,
   "metadata": {
    "slideshow": {
     "slide_type": "subslide"
    }
   },
   "outputs": [
    {
     "name": "stdout",
     "output_type": "stream",
     "text": [
      "Element-wise addition:\n",
      " tensor([[1.4803, 0.3857],\n",
      "        [1.2587, 0.8275]])\n",
      "First multiplication:\n",
      " tensor([[0.5410, 0.0170],\n",
      "        [0.3441, 0.0445]])\n",
      "Second multiplication:\n",
      " tensor([[0.5844, 0.2232],\n",
      "        [0.9901, 0.1789]])\n"
     ]
    }
   ],
   "source": [
    "# Create two tensors\n",
    "x = torch.rand(2, 2)\n",
    "y = torch.rand(2, 2)\n",
    "\n",
    "# Element-wise addition\n",
    "add = torch.add(x, y)\n",
    "\n",
    "mul = torch.mul(x, y)\n",
    "\n",
    "mul2 = torch.mm(x, y)\n",
    "\n",
    "# Print the results\n",
    "print(\"Element-wise addition:\\n\", add)\n",
    "print(\"First multiplication:\\n\", mul)\n",
    "print(\"Second multiplication:\\n\", mul2)"
   ]
  },
  {
   "cell_type": "code",
   "execution_count": 3,
   "metadata": {
    "slideshow": {
     "slide_type": "subslide"
    }
   },
   "outputs": [
    {
     "name": "stdout",
     "output_type": "stream",
     "text": [
      "Original tensor (4x4):\n",
      " tensor([[0.0026, 0.6078, 0.3425, 0.9046],\n",
      "        [0.9092, 0.0137, 0.1082, 0.3988],\n",
      "        [0.3424, 0.6298, 0.5260, 0.9853],\n",
      "        [0.0327, 0.3165, 0.0206, 0.6292]])\n",
      "Reshaped tensor (2x8):\n",
      " tensor([[0.0026, 0.6078, 0.3425, 0.9046, 0.9092, 0.0137, 0.1082, 0.3988],\n",
      "        [0.3424, 0.6298, 0.5260, 0.9853, 0.0327, 0.3165, 0.0206, 0.6292]])\n"
     ]
    }
   ],
   "source": [
    "# Create a tensor of size 4x4\n",
    "z = torch.rand(4, 4)\n",
    "\n",
    "# Reshape z to size 2x8\n",
    "reshaped = z.view(2, 8)\n",
    "\n",
    "print(\"Original tensor (4x4):\\n\", z)\n",
    "print(\"Reshaped tensor (2x8):\\n\", reshaped)"
   ]
  },
  {
   "cell_type": "code",
   "execution_count": 4,
   "metadata": {
    "slideshow": {
     "slide_type": "slide"
    }
   },
   "outputs": [],
   "source": [
    "import torch\n",
    "import torch.nn as nn\n",
    "import torch.optim as optim\n",
    "import torchvision\n",
    "import torchvision.transforms as transforms\n",
    "import numpy as np\n",
    "import matplotlib.pyplot as plt"
   ]
  },
  {
   "cell_type": "code",
   "execution_count": 5,
   "metadata": {
    "slideshow": {
     "slide_type": "subslide"
    }
   },
   "outputs": [
    {
     "name": "stdout",
     "output_type": "stream",
     "text": [
      "tensor([[0.0515, 0.3897, 0.2402],\n",
      "        [0.1755, 0.7113, 0.9170],\n",
      "        [0.1222, 0.7421, 0.2112],\n",
      "        [0.7981, 0.4644, 0.7378],\n",
      "        [0.5609, 0.7237, 0.3758],\n",
      "        [0.3300, 0.7671, 0.4355],\n",
      "        [0.5528, 0.7715, 0.4525],\n",
      "        [0.8250, 0.0265, 0.6905],\n",
      "        [0.9529, 0.4627, 0.7247],\n",
      "        [0.1229, 0.6664, 0.7111]])\n",
      "tensor([[0.4420, 0.0000, 0.0000, 0.0000, 0.0895],\n",
      "        [0.3058, 0.0000, 0.0000, 0.5123, 0.0636],\n",
      "        [0.5468, 0.0000, 0.0000, 0.1695, 0.0951],\n",
      "        [0.4768, 0.0000, 0.0000, 0.3139, 0.2894],\n",
      "        [0.5987, 0.0000, 0.0000, 0.2583, 0.2251],\n",
      "        [0.5272, 0.0000, 0.0000, 0.3032, 0.1445],\n",
      "        [0.5800, 0.0000, 0.0000, 0.3218, 0.2145],\n",
      "        [0.4056, 0.0000, 0.0000, 0.0619, 0.3251],\n",
      "        [0.5212, 0.0000, 0.0000, 0.3118, 0.3401],\n",
      "        [0.3548, 0.0000, 0.0000, 0.3828, 0.0639]], grad_fn=<ReluBackward0>)\n",
      "torch.Size([10, 5])\n"
     ]
    }
   ],
   "source": [
    "a = torch.rand(10, 3)\n",
    "print(a)\n",
    "\n",
    "my_layer = nn.Linear(3, 5)  # randomly initializes weights\n",
    "activation = nn.ReLU()\n",
    "y = my_layer(a)\n",
    "y = activation(y)\n",
    "\n",
    "print(y)\n",
    "print(y.shape)"
   ]
  },
  {
   "cell_type": "code",
   "execution_count": 6,
   "metadata": {
    "slideshow": {
     "slide_type": "subslide"
    }
   },
   "outputs": [
    {
     "name": "stdout",
     "output_type": "stream",
     "text": [
      "(2048, 2048, 4)\n"
     ]
    },
    {
     "data": {
      "image/png": "[encoded data removed]",
      "text/plain": [
       "<Figure size 640x480 with 1 Axes>"
      ]
     },
     "metadata": {},
     "output_type": "display_data"
    }
   ],
   "source": [
    "from PIL import Image\n",
    "\n",
    "fb_img = Image.open(\"fb.png\")\n",
    "plt.subplot(121)\n",
    "plt.imshow(fb_img)\n",
    "\n",
    "print(np.array(fb_img).shape)"
   ]
  },
  {
   "cell_type": "code",
   "execution_count": 260,
   "metadata": {
    "slideshow": {
     "slide_type": "subslide"
    }
   },
   "outputs": [
    {
     "name": "stdout",
     "output_type": "stream",
     "text": [
      "torch.Size([1, 2, 2046, 2046])\n"
     ]
    }
   ],
   "source": [
    "image_tensor = (\n",
    "    torch.tensor(np.array(fb_img), dtype=torch.float32).permute(2, 0, 1).unsqueeze(0)\n",
    ")\n",
    "\n",
    "conv_layer = nn.Conv2d(in_channels=4, out_channels=2, kernel_size=3)\n",
    "convolved_image = conv_layer(image_tensor)\n",
    "print(convolved_image.shape)"
   ]
  },
  {
   "cell_type": "code",
   "execution_count": 7,
   "metadata": {
    "slideshow": {
     "slide_type": "slide"
    }
   },
   "outputs": [
    {
     "name": "stdout",
     "output_type": "stream",
     "text": [
      "tensor([[0., 0.],\n",
      "        [0., 1.],\n",
      "        [1., 0.],\n",
      "        [1., 1.]])\n",
      "tensor([0., 1., 1., 0.])\n"
     ]
    }
   ],
   "source": [
    "X = torch.Tensor([[0, 0], [0, 1], [1, 0], [1, 1]])\n",
    "y = torch.Tensor([0, 1, 1, 0])\n",
    "print(X)\n",
    "print(y)"
   ]
  },
  {
   "cell_type": "code",
   "execution_count": 8,
   "metadata": {
    "slideshow": {
     "slide_type": "subslide"
    }
   },
   "outputs": [
    {
     "data": {
      "image/png": "[encoded data removed]",
      "text/plain": [
       "<Figure size 640x480 with 1 Axes>"
      ]
     },
     "metadata": {},
     "output_type": "display_data"
    }
   ],
   "source": [
    "plt.figure()\n",
    "X[y == 0, 0]\n",
    "plt.scatter(X[y == 0, 0], X[y == 0, 1], marker=\"o\", color=\"b\", s=512)\n",
    "plt.scatter(X[y == 1, 0], X[y == 1, 1], marker=\"+\", color=\"r\", s=512)\n",
    "plt.show()"
   ]
  },
  {
   "cell_type": "code",
   "execution_count": 9,
   "metadata": {
    "slideshow": {
     "slide_type": "subslide"
    }
   },
   "outputs": [
    {
     "name": "stdout",
     "output_type": "stream",
     "text": [
      "Sequential(\n",
      "  (0): Linear(in_features=2, out_features=8, bias=True)\n",
      "  (1): Sigmoid()\n",
      "  (2): Linear(in_features=8, out_features=1, bias=True)\n",
      ")\n"
     ]
    }
   ],
   "source": [
    "model = nn.Sequential(nn.Linear(2, 8), nn.Sigmoid(), nn.Linear(8, 1))\n",
    "print(model)"
   ]
  },
  {
   "cell_type": "code",
   "execution_count": 10,
   "metadata": {
    "slideshow": {
     "slide_type": "subslide"
    }
   },
   "outputs": [
    {
     "name": "stdout",
     "output_type": "stream",
     "text": [
      "tensor([[-0.2106],\n",
      "        [-0.2201],\n",
      "        [-0.1928],\n",
      "        [-0.2034]], grad_fn=<AddmmBackward0>)\n"
     ]
    }
   ],
   "source": [
    "y_hat_tmp = model(X)\n",
    "print(y_hat_tmp)"
   ]
  },
  {
   "cell_type": "code",
   "execution_count": 14,
   "metadata": {
    "slideshow": {
     "slide_type": "subslide"
    }
   },
   "outputs": [],
   "source": [
    "optimizer = optim.Adam(\n",
    "    model.parameters()\n",
    ")  # Adam is an optimizer that does a variation of gradient descent and is very effective\n",
    "loss_fn = nn.BCEWithLogitsLoss()\n",
    "num_iters = 10000\n",
    "loss_array = np.empty(num_iters)"
   ]
  },
  {
   "cell_type": "code",
   "execution_count": 15,
   "metadata": {
    "slideshow": {
     "slide_type": "subslide"
    }
   },
   "outputs": [],
   "source": [
    "for i in range(num_iters):\n",
    "    y_hat = model(X).squeeze()  # y_hat is (4,1) while y is (4,), so we remove the 1\n",
    "    optimizer.zero_grad()\n",
    "    loss = loss_fn(y_hat, y)\n",
    "    loss_array[i] = loss.item()  # just storing this to plot later\n",
    "    loss.backward()\n",
    "    optimizer.step()"
   ]
  },
  {
   "cell_type": "code",
   "execution_count": 16,
   "metadata": {
    "slideshow": {
     "slide_type": "subslide"
    }
   },
   "outputs": [
    {
     "data": {
      "text/plain": [
       "tensor([[False],\n",
       "        [ True],\n",
       "        [ True],\n",
       "        [False]])"
      ]
     },
     "execution_count": 16,
     "metadata": {},
     "output_type": "execute_result"
    },
    {
     "data": {
      "image/png": "[encoded data removed]",
      "text/plain": [
       "<Figure size 640x480 with 1 Axes>"
      ]
     },
     "metadata": {},
     "output_type": "display_data"
    }
   ],
   "source": [
    "plt.figure()\n",
    "plt.plot(loss_array)\n",
    "plt.xlabel(\"Iterations\")\n",
    "plt.ylabel(\"Loss\")\n",
    "(model(X) > 0)"
   ]
  },
  {
   "cell_type": "code",
   "execution_count": 17,
   "metadata": {
    "slideshow": {
     "slide_type": "subslide"
    }
   },
   "outputs": [
    {
     "name": "stdout",
     "output_type": "stream",
     "text": [
      "tensor([False,  True,  True, False])\n"
     ]
    }
   ],
   "source": [
    "# print out the predictions on the XOR case\n",
    "\n",
    "# first the data for xor\n",
    "X = torch.Tensor([[0, 0], [0, 1], [1, 0], [1, 1]])\n",
    "\n",
    "# now the predictions on X\n",
    "print(model(X).squeeze() > 0)"
   ]
  },
  {
   "cell_type": "code",
   "execution_count": 18,
   "metadata": {
    "slideshow": {
     "slide_type": "slide"
    }
   },
   "outputs": [],
   "source": [
    "def imshow(img):\n",
    "    img = img / 2 + 0.5  # unnormalize\n",
    "    npimg = img.numpy()\n",
    "    plt.imshow(np.transpose(npimg, (1, 2, 0)))\n",
    "    plt.show()"
   ]
  },
  {
   "cell_type": "code",
   "execution_count": 19,
   "metadata": {
    "slideshow": {
     "slide_type": "slide"
    }
   },
   "outputs": [
    {
     "name": "stdout",
     "output_type": "stream",
     "text": [
      "Files already downloaded and verified\n",
      "Files already downloaded and verified\n"
     ]
    }
   ],
   "source": [
    "# Convert images to tensors and normalize them\n",
    "transform = transforms.Compose(\n",
    "    [transforms.ToTensor(), transforms.Normalize((0.5, 0.5, 0.5), (0.5, 0.5, 0.5))]\n",
    ")\n",
    "\n",
    "# Load traning set, download if not in root\n",
    "trainset = torchvision.datasets.CIFAR10(\n",
    "    root=\"./data\", train=True, download=True, transform=transform\n",
    ")\n",
    "# Create a trainloader: iterable over the data which returns\n",
    "# batches of 4 images at a time\n",
    "trainloader = torch.utils.data.DataLoader(\n",
    "    trainset, batch_size=4, shuffle=True, num_workers=2\n",
    ")\n",
    "\n",
    "testset = torchvision.datasets.CIFAR10(\n",
    "    root=\"./data\", train=False, download=True, transform=transform\n",
    ")\n",
    "testloader = torch.utils.data.DataLoader(\n",
    "    testset, batch_size=4, shuffle=False, num_workers=2\n",
    ")\n",
    "\n",
    "classes = (\n",
    "    \"plane\",\n",
    "    \"car\",\n",
    "    \"bird\",\n",
    "    \"cat\",\n",
    "    \"deer\",\n",
    "    \"dog\",\n",
    "    \"frog\",\n",
    "    \"horse\",\n",
    "    \"ship\",\n",
    "    \"truck\",\n",
    ")"
   ]
  },
  {
   "cell_type": "code",
   "execution_count": 20,
   "metadata": {
    "slideshow": {
     "slide_type": "subslide"
    }
   },
   "outputs": [],
   "source": [
    "dataiter = iter(testloader)\n",
    "images, labels = next(dataiter)"
   ]
  },
  {
   "cell_type": "code",
   "execution_count": 21,
   "metadata": {
    "slideshow": {
     "slide_type": "subslide"
    }
   },
   "outputs": [
    {
     "data": {
      "text/plain": [
       "torch.Size([4, 3, 32, 32])"
      ]
     },
     "execution_count": 21,
     "metadata": {},
     "output_type": "execute_result"
    }
   ],
   "source": [
    "images.shape  # should be batch_size x channels x height x width"
   ]
  },
  {
   "cell_type": "code",
   "execution_count": 23,
   "metadata": {
    "slideshow": {
     "slide_type": "subslide"
    }
   },
   "outputs": [],
   "source": [
    "class MyCNN(nn.Module):\n",
    "    def __init__(self):\n",
    "        super().__init__()\n",
    "        self.conv1 = nn.Conv2d(3, 6, 5)\n",
    "        self.pool1 = nn.MaxPool2d(2)\n",
    "        self.conv2 = nn.Conv2d(6, 16, 5)\n",
    "        self.pool2 = nn.MaxPool2d(2)\n",
    "        \n",
    "        self.fc1 = nn.Linear(16 * 5 * 5, 120)\n",
    "        self.fc2 = nn.Linear(120, 84)\n",
    "        self.fc3 = nn.Linear(84, 10)\n",
    "        \n",
    "        self.relu = nn.ReLU()\n",
    "        \n",
    "    def forward(self, X):\n",
    "        X = self.conv1(X)\n",
    "        X = self.pool1(X)\n",
    "        X = self.relu(X)\n",
    "        X = self.conv2(X)\n",
    "        X = self.pool2(X)\n",
    "        X = self.relu(X)\n",
    "        \n",
    "        X = X.view(-1, 16 * 5 * 5)\n",
    "        \n",
    "        X = self.relu(self.fc1(X))\n",
    "        X = self.relu(self.fc2(X))\n",
    "        return self.fc3(X)\n",
    "        "
   ]
  },
  {
   "cell_type": "code",
   "execution_count": 25,
   "metadata": {
    "slideshow": {
     "slide_type": "subslide"
    }
   },
   "outputs": [],
   "source": [
    "model = MyCNN()\n",
    "loss_fn = nn.CrossEntropyLoss()\n",
    "optimizer = optim.Adam(model.parameters())"
   ]
  },
  {
   "cell_type": "code",
   "execution_count": 28,
   "metadata": {
    "slideshow": {
     "slide_type": "subslide"
    }
   },
   "outputs": [
    {
     "name": "stdout",
     "output_type": "stream",
     "text": [
      "[epoch: 0, iter: 1999] loss: 1.894\n",
      "[epoch: 0, iter: 3999] loss: 1.614\n",
      "[epoch: 0, iter: 5999] loss: 1.492\n",
      "[epoch: 0, iter: 7999] loss: 1.431\n",
      "[epoch: 0, iter: 9999] loss: 1.378\n",
      "[epoch: 0, iter: 11999] loss: 1.373\n",
      "[epoch: 1, iter: 1999] loss: 1.270\n",
      "[epoch: 1, iter: 3999] loss: 1.271\n",
      "[epoch: 1, iter: 5999] loss: 1.277\n",
      "[epoch: 1, iter: 7999] loss: 1.224\n",
      "[epoch: 1, iter: 9999] loss: 1.232\n",
      "[epoch: 1, iter: 11999] loss: 1.213\n"
     ]
    }
   ],
   "source": [
    "for epoch in range(2): \n",
    "    running_loss = 0.0\n",
    "    for i, data in enumerate(trainloader):\n",
    "        inputs, labels = data\n",
    "        optimizer.zero_grad()\n",
    "        \n",
    "        outputs = model(inputs)\n",
    "        loss = loss_fn(outputs, labels)\n",
    "        loss.backward()\n",
    "        optimizer.step()\n",
    "        \n",
    "        # print statistics\n",
    "        running_loss += loss.item()\n",
    "        if i % 2000 == 1999:    # print every 2000 mini-batches\n",
    "            print('[epoch: {}, iter: {}] loss: {:.3f}'.format(epoch, i, running_loss / 2000))\n",
    "            running_loss = 0.0\n",
    "print('finished training')"
   ]
  },
  {
   "cell_type": "code",
   "execution_count": 29,
   "metadata": {
    "slideshow": {
     "slide_type": "subslide"
    }
   },
   "outputs": [
    {
     "data": {
      "image/png": "[encoded data removed]",
      "text/plain": [
       "<Figure size 640x480 with 1 Axes>"
      ]
     },
     "metadata": {},
     "output_type": "display_data"
    },
    {
     "name": "stdout",
     "output_type": "stream",
     "text": [
      "GroundTruth:    cat  ship  ship plane\n"
     ]
    }
   ],
   "source": [
    "dataiter = iter(testloader)\n",
    "images, labels = next(dataiter)\n",
    "\n",
    "# print images\n",
    "imshow(torchvision.utils.make_grid(images))\n",
    "print(\"GroundTruth: \", \" \".join(\"%5s\" % classes[labels[j]] for j in range(4)))"
   ]
  },
  {
   "cell_type": "code",
   "execution_count": 30,
   "metadata": {
    "slideshow": {
     "slide_type": "subslide"
    }
   },
   "outputs": [
    {
     "name": "stdout",
     "output_type": "stream",
     "text": [
      "['cat', 'car', 'car', 'plane']\n"
     ]
    }
   ],
   "source": [
    "outputs = model(images)\n",
    "_, predicted = torch.max(outputs, 1)\n",
    "print([classes[predicted[j]] for j in range(4)])"
   ]
  },
  {
   "cell_type": "code",
   "execution_count": 31,
   "metadata": {
    "slideshow": {
     "slide_type": "subslide"
    }
   },
   "outputs": [
    {
     "name": "stdout",
     "output_type": "stream",
     "text": [
      "Accuracy of the network on the 10000 test images: 56 %\n"
     ]
    }
   ],
   "source": [
    "# pick a random 1000 and show accuracy\n",
    "correct = 0\n",
    "total = 0\n",
    "with torch.no_grad():\n",
    "    for data in testloader:\n",
    "        images, labels = data\n",
    "        outputs = model(images)\n",
    "        _, predicted = torch.max(outputs.data, 1)\n",
    "        total += labels.size(0)\n",
    "        correct += (predicted == labels).sum().item()\n",
    "\n",
    "print(\n",
    "    \"Accuracy of the network on the 10000 test images: %d %%\" % (100 * correct / total)\n",
    ")"
   ]
  },
  {
   "cell_type": "markdown",
   "metadata": {
    "slideshow": {
     "slide_type": "slide"
    }
   },
   "source": [
    "## Let's generalize: what is the structure for creating Neural Networks?\n"
   ]
  },
  {
   "cell_type": "code",
   "execution_count": 32,
   "metadata": {
    "slideshow": {
     "slide_type": "subslide"
    }
   },
   "outputs": [
    {
     "data": {
      "image/png": "[encoded data removed]",
      "text/plain": [
       "<Figure size 1000x600 with 1 Axes>"
      ]
     },
     "metadata": {},
     "output_type": "display_data"
    }
   ],
   "source": [
    "np.random.seed(42)  # For reproducibility\n",
    "\n",
    "# Parameters for the \"bullseye\"\n",
    "optimal_height = 74  # Optimal height in inches\n",
    "optimal_age = 25  # Optimal age\n",
    "\n",
    "# Generate players in the bullseye\n",
    "player_heights = np.random.normal(optimal_height, 2, 100)  # Closer height variance\n",
    "player_ages = np.random.normal(optimal_age, 2, 100)  # Closer age variance\n",
    "\n",
    "# Generate non-players around the bullseye\n",
    "# Heights\n",
    "non_player_heights1 = np.random.normal(optimal_height - 10, 2, 50)  # Shorter\n",
    "non_player_heights2 = np.random.normal(optimal_height + 10, 2, 50)  # Taller\n",
    "\n",
    "# Ages\n",
    "non_player_ages1 = np.random.normal(optimal_age - 15, 2, 50)  # Younger\n",
    "non_player_ages2 = np.random.normal(optimal_age + 15, 2, 50)  # Older\n",
    "\n",
    "# Combine non-players\n",
    "non_player_heights = np.concatenate([non_player_heights1, non_player_heights2])\n",
    "non_player_ages = np.concatenate([non_player_ages1, non_player_ages2])\n",
    "\n",
    "# Labels\n",
    "y_players = np.ones(player_heights.shape)  # Class 1 for players\n",
    "y_non_players = np.zeros(non_player_heights.shape)  # Class 0 for non-players\n",
    "\n",
    "# Combine into a single dataset\n",
    "X = np.vstack(\n",
    "    (\n",
    "        np.column_stack((player_heights, player_ages)),\n",
    "        np.column_stack((non_player_heights, non_player_ages)),\n",
    "    )\n",
    ")\n",
    "y = np.concatenate((y_players, y_non_players))\n",
    "\n",
    "# Plot\n",
    "plt.figure(figsize=(10, 6))\n",
    "plt.scatter(X[y == 0][:, 0], X[y == 0][:, 1], color=\"red\", label=\"Non-Players\")\n",
    "plt.scatter(X[y == 1][:, 0], X[y == 1][:, 1], color=\"blue\", label=\"Players\")\n",
    "plt.title(\"Synthetic NFL Player Dataset with Target Pattern\")\n",
    "plt.xlabel(\"Height (inches)\")\n",
    "plt.ylabel(\"Age\")\n",
    "plt.legend()\n",
    "plt.show()"
   ]
  },
  {
   "cell_type": "code",
   "execution_count": 33,
   "metadata": {
    "slideshow": {
     "slide_type": "subslide"
    }
   },
   "outputs": [
    {
     "data": {
      "text/plain": [
       "Sequential(\n",
       "  (0): Linear(in_features=2, out_features=20, bias=True)\n",
       "  (1): ReLU()\n",
       "  (2): Linear(in_features=20, out_features=10, bias=True)\n",
       "  (3): ReLU()\n",
       "  (4): Linear(in_features=10, out_features=1, bias=True)\n",
       "  (5): Sigmoid()\n",
       ")"
      ]
     },
     "execution_count": 33,
     "metadata": {},
     "output_type": "execute_result"
    }
   ],
   "source": [
    "import torch\n",
    "import torch.nn as nn\n",
    "import torch.optim as optim\n",
    "\n",
    "# Convert the dataset to PyTorch tensors\n",
    "X_tensor = torch.tensor(X, dtype=torch.float32)\n",
    "y_tensor = torch.tensor(y[:, None], dtype=torch.float32)\n",
    "\n",
    "# Define the model\n",
    "model = nn.Sequential(\n",
    "    nn.Linear(2, 20),\n",
    "    nn.ReLU(),\n",
    "    nn.Linear(20, 10),\n",
    "    nn.ReLU(),\n",
    "    nn.Linear(10, 1),\n",
    "    nn.Sigmoid(),\n",
    ")\n",
    "\n",
    "model"
   ]
  },
  {
   "cell_type": "code",
   "execution_count": 34,
   "metadata": {
    "slideshow": {
     "slide_type": "subslide"
    }
   },
   "outputs": [],
   "source": [
    "# Define the optimizer\n",
    "optimizer = optim.Adam(model.parameters(), lr=0.01)  # Using Adam optimizer"
   ]
  },
  {
   "cell_type": "code",
   "execution_count": 35,
   "metadata": {
    "slideshow": {
     "slide_type": "subslide"
    }
   },
   "outputs": [],
   "source": [
    "# Define the loss function\n",
    "criterion = nn.BCELoss()"
   ]
  },
  {
   "cell_type": "code",
   "execution_count": 36,
   "metadata": {
    "slideshow": {
     "slide_type": "subslide"
    }
   },
   "outputs": [
    {
     "name": "stdout",
     "output_type": "stream",
     "text": [
      "Epoch 0, Loss: 0.7759860157966614\n",
      "Epoch 100, Loss: 0.693135142326355\n",
      "Epoch 200, Loss: 0.6930734515190125\n",
      "Epoch 300, Loss: 0.6929976940155029\n",
      "Epoch 400, Loss: 0.6929119825363159\n",
      "Epoch 500, Loss: 0.6928196549415588\n",
      "Epoch 600, Loss: 0.6935034394264221\n",
      "Epoch 700, Loss: 0.692671000957489\n",
      "Epoch 800, Loss: 0.6925945281982422\n",
      "Epoch 900, Loss: 0.6925168037414551\n"
     ]
    }
   ],
   "source": [
    "# Training loop\n",
    "for epoch in range(1000):\n",
    "    # Zero the gradients\n",
    "    optimizer.zero_grad()\n",
    "\n",
    "    # Forward pass\n",
    "    outputs = model(X_tensor)\n",
    "\n",
    "    # Calculate loss\n",
    "    loss = criterion(outputs, y_tensor)\n",
    "\n",
    "    # Backward pass and optimize\n",
    "    loss.backward()\n",
    "    optimizer.step()\n",
    "\n",
    "    if epoch % 100 == 0:\n",
    "        print(f\"Epoch {epoch}, Loss: {loss.item()}\")"
   ]
  },
  {
   "cell_type": "code",
   "execution_count": 37,
   "metadata": {
    "slideshow": {
     "slide_type": "subslide"
    }
   },
   "outputs": [],
   "source": [
    "class NFLPredictor(nn.Module):\n",
    "    def __init__(self):\n",
    "        super(NFLPredictor, self).__init__()\n",
    "        self.layer1 = nn.Linear(2, 20)\n",
    "        self.layer2 = nn.Linear(20, 10)\n",
    "        self.output_layer = nn.Linear(10, 1)\n",
    "\n",
    "    def forward(self, x):\n",
    "        x = torch.relu(self.layer1(x))\n",
    "        x = torch.relu(self.layer2(x))\n",
    "        x = torch.sigmoid(self.output_layer(x))\n",
    "        return x"
   ]
  },
  {
   "cell_type": "code",
   "execution_count": 38,
   "metadata": {
    "slideshow": {
     "slide_type": "subslide"
    }
   },
   "outputs": [],
   "source": [
    "# Initialize the model\n",
    "model = NFLPredictor()\n",
    "\n",
    "# Define the optimizer\n",
    "optimizer = optim.Adam(model.parameters(), lr=0.01)\n",
    "\n",
    "# Define the loss function\n",
    "criterion = nn.BCELoss()"
   ]
  },
  {
   "cell_type": "code",
   "execution_count": 39,
   "metadata": {
    "slideshow": {
     "slide_type": "subslide"
    }
   },
   "outputs": [
    {
     "name": "stdout",
     "output_type": "stream",
     "text": [
      "Epoch 0, Loss: 2.58172607421875\n",
      "Epoch 100, Loss: 0.6934667825698853\n",
      "Epoch 200, Loss: 0.6931471824645996\n",
      "Epoch 300, Loss: 0.6931473016738892\n",
      "Epoch 400, Loss: 0.6931471824645996\n",
      "Epoch 500, Loss: 0.6931471824645996\n",
      "Epoch 600, Loss: 0.6931471824645996\n",
      "Epoch 700, Loss: 0.6931471824645996\n",
      "Epoch 800, Loss: 0.6931471824645996\n",
      "Epoch 900, Loss: 0.6931471824645996\n"
     ]
    }
   ],
   "source": [
    "# Training loop\n",
    "for epoch in range(1000):\n",
    "    optimizer.zero_grad()  # Zero the gradients\n",
    "\n",
    "    outputs = model(X_tensor)  # Forward pass\n",
    "    loss = criterion(outputs, y_tensor)  # Calculate loss\n",
    "\n",
    "    loss.backward()  # Backward pass\n",
    "    optimizer.step()  # Optimize (update model parameters)\n",
    "\n",
    "    if epoch % 100 == 0:\n",
    "        print(f\"Epoch {epoch}, Loss: {loss.item()}\")"
   ]
  },
  {
   "cell_type": "code",
   "execution_count": 40,
   "metadata": {
    "slideshow": {
     "slide_type": "subslide"
    }
   },
   "outputs": [
    {
     "data": {
      "image/png": "[encoded data removed]",
      "text/plain": [
       "<Figure size 640x480 with 1 Axes>"
      ]
     },
     "metadata": {},
     "output_type": "display_data"
    }
   ],
   "source": [
    "import numpy as np\n",
    "import matplotlib.pyplot as plt\n",
    "\n",
    "# Assuming X_tensor contains our features and is of shape [n_samples, n_features]\n",
    "# where n_features is 2 for this synthetic dataset\n",
    "x_min, x_max = X_tensor[:, 0].min() - 1, X_tensor[:, 0].max() + 1\n",
    "y_min, y_max = X_tensor[:, 1].min() - 1, X_tensor[:, 1].max() + 1\n",
    "\n",
    "xx, yy = np.meshgrid(np.arange(x_min, x_max, 0.01), np.arange(y_min, y_max, 0.01))\n",
    "\n",
    "# Flatten the grid to pass into model\n",
    "grid = np.c_[xx.ravel(), yy.ravel()]\n",
    "grid_tensor = torch.tensor(grid, dtype=torch.float32)\n",
    "\n",
    "# Predict using the model\n",
    "model.eval()  # Set the model to evaluation mode\n",
    "with torch.no_grad():\n",
    "    predictions = model(grid_tensor)\n",
    "    predictions = predictions.reshape(xx.shape)\n",
    "\n",
    "# Plot the decision boundary\n",
    "plt.contourf(xx, yy, predictions, alpha=0.5)\n",
    "plt.scatter(X_tensor[:, 0], X_tensor[:, 1], c=y_tensor[:, 0], edgecolor=\"k\", s=20)\n",
    "plt.xlim(xx.min(), xx.max())\n",
    "plt.ylim(yy.min(), yy.max())\n",
    "plt.xlabel(\"Feature 1 (e.g., Height)\")\n",
    "plt.ylabel(\"Feature 2 (e.g., Age)\")\n",
    "plt.title(\"Decision Boundary\")\n",
    "plt.show()"
   ]
  },
  {
   "cell_type": "code",
   "execution_count": null,
   "metadata": {
    "slideshow": {
     "slide_type": "slide"
    }
   },
   "outputs": [],
   "source": [
    "# pip install transfomers <- this is how you use hugging face"
   ]
  },
  {
   "cell_type": "markdown",
   "metadata": {
    "slideshow": {
     "slide_type": "subslide"
    }
   },
   "source": [
    "https://huggingface.co/openai-community/gpt2\n"
   ]
  },
  {
   "cell_type": "code",
   "execution_count": 42,
   "metadata": {
    "slideshow": {
     "slide_type": "subslide"
    }
   },
   "outputs": [
    {
     "name": "stderr",
     "output_type": "stream",
     "text": [
      "Setting `pad_token_id` to `eos_token_id`:50256 for open-end generation.\n"
     ]
    },
    {
     "data": {
      "text/plain": [
       "[{'generated_text': \"Jash is a TA for Python course, this means he's ready to go. He's always been a little slow for me, I was always\"},\n",
       " {'generated_text': \"Jash is a TA for Python course, this means he's in, and not out of. We'll focus on Python by nature. This isn\"},\n",
       " {'generated_text': \"Jash is a TA for Python course, this means he'll know the code for Python, Python's equivalent to Python 2.6, Python with\"},\n",
       " {'generated_text': 'Jash is a TA for Python course, this means he was taught Python via his own program and this led him to create the project in Go.'},\n",
       " {'generated_text': 'Jash is a TA for Python course, this means he is doing something like this:\\n\\npython test.py test.py test_error'}]"
      ]
     },
     "execution_count": 42,
     "metadata": {},
     "output_type": "execute_result"
    }
   ],
   "source": [
    "# implement some GPT 2 model\n",
    "from transformers import pipeline, set_seed\n",
    "generator = pipeline('text-generation', model='gpt2')\n",
    "set_seed(42)\n",
    "generator(\"Jash is a TA for Python course, this means he\", max_length=30, num_return_sequences=5)"
   ]
  },
  {
   "cell_type": "markdown",
   "metadata": {
    "slideshow": {
     "slide_type": "subslide"
    }
   },
   "source": [
    "https://huggingface.co/blog/sentiment-analysis-python\n"
   ]
  },
  {
   "cell_type": "code",
   "execution_count": 44,
   "metadata": {
    "slideshow": {
     "slide_type": "subslide"
    }
   },
   "outputs": [
    {
     "name": "stderr",
     "output_type": "stream",
     "text": [
      "No model was supplied, defaulted to distilbert-base-uncased-finetuned-sst-2-english and revision af0f99b (https://huggingface.co/distilbert-base-uncased-finetuned-sst-2-english).\n",
      "Using a pipeline without specifying a model name and revision in production is not recommended.\n"
     ]
    },
    {
     "data": {
      "text/plain": [
       "[{'label': 'NEGATIVE', 'score': 0.9997280240058899},\n",
       " {'label': 'POSITIVE', 'score': 0.9988515377044678}]"
      ]
     },
     "execution_count": 44,
     "metadata": {},
     "output_type": "execute_result"
    }
   ],
   "source": [
    "from transformers import pipeline\n",
    "sentiment_pipeline = pipeline(\"sentiment-analysis\")\n",
    "data = [\"Jash is mediocre\", \"Jash is above average\"]\n",
    "sentiment_pipeline(data)"
   ]
  },
  {
   "cell_type": "code",
   "execution_count": null,
   "metadata": {
    "slideshow": {
     "slide_type": "subslide"
    }
   },
   "outputs": [],
   "source": [
    "from transformers import pipeline\n",
    "\n",
    "pipe = pipeline(\"text-classification\")\n",
    "pipe(\n",
    "    [\n",
    "        \"This restaurant is awesome\",\n",
    "        \"This restaurant is awful\",\n",
    "        \"Jash knows how to do everything\",\n",
    "    ]\n",
    ")"
   ]
  },
  {
   "cell_type": "code",
   "execution_count": null,
   "metadata": {},
   "outputs": [],
   "source": [
    "import numpy as np\n",
    "import matplotlib.pyplot as plt\n",
    "\n",
    "# Seed for reproducibility\n",
    "np.random.seed(0)\n",
    "\n",
    "# Generate synthetic data\n",
    "x0 = np.random.randn(50, 2) - 1  # Class 0\n",
    "x1 = np.random.randn(50, 2) + 1  # Class 1\n",
    "X = np.vstack([x0, x1])\n",
    "y = np.array([0] * 50 + [1] * 50)\n",
    "\n",
    "# Plot the data\n",
    "plt.figure(figsize=(8, 6))\n",
    "plt.scatter(X[y == 0][:, 0], X[y == 0][:, 1], color=\"red\", label=\"Class 0\")\n",
    "plt.scatter(X[y == 1][:, 0], X[y == 1][:, 1], color=\"blue\", label=\"Class 1\")\n",
    "plt.xlabel(\"Feature 1\")\n",
    "plt.ylabel(\"Feature 2\")\n",
    "plt.title(\"Linearly Separable Dataset\")\n",
    "plt.legend()\n",
    "plt.show()"
   ]
  },
  {
   "cell_type": "code",
   "execution_count": null,
   "metadata": {},
   "outputs": [],
   "source": [
    "import torch\n",
    "import torch.nn.functional as F\n",
    "import torch.optim as optim\n",
    "\n",
    "# Convert the data to PyTorch tensors\n",
    "X_tensor = torch.tensor(X, dtype=torch.float32)\n",
    "y_tensor = torch.tensor(\n",
    "    y[:, None], dtype=torch.float32\n",
    ")  # Reshape for binary classification\n",
    "\n",
    "# Initialize weights and bias with requires_grad=True to enable gradient computation\n",
    "weights = torch.randn(2, 1, requires_grad=True)\n",
    "bias = torch.randn(1, requires_grad=True)\n",
    "\n",
    "\n",
    "# Simple forward pass function\n",
    "def forward(X):\n",
    "    return torch.sigmoid(X @ weights + bias)\n",
    "\n",
    "\n",
    "# Loss function (Binary Cross Entropy)\n",
    "def binary_cross_entropy(y_true, y_pred):\n",
    "    return F.binary_cross_entropy(y_pred, y_true)\n",
    "\n",
    "\n",
    "# Optimizer (Here we'll use Stochastic Gradient Descent)\n",
    "optimizer = optim.SGD([weights, bias], lr=0.01)\n",
    "\n",
    "# Training loop\n",
    "for epoch in range(1000):\n",
    "    # Forward pass\n",
    "    outputs = forward(X_tensor)\n",
    "\n",
    "    # Compute loss\n",
    "    loss = binary_cross_entropy(y_tensor, outputs)\n",
    "\n",
    "    # Zero the gradients computed in the previous iteration\n",
    "    optimizer.zero_grad()\n",
    "\n",
    "    # Backward pass (compute gradients)\n",
    "    loss.backward()\n",
    "\n",
    "    # Update the weights\n",
    "    optimizer.step()\n",
    "\n",
    "    if (epoch + 1) % 100 == 0:\n",
    "        print(f\"Epoch [{epoch+1}/1000], Loss: {loss.item():.4f}\")"
   ]
  },
  {
   "cell_type": "code",
   "execution_count": null,
   "metadata": {},
   "outputs": [],
   "source": [
    "def plot_decision_boundary():\n",
    "    x_min, x_max = X[:, 0].min() - 1, X[:, 0].max() + 1\n",
    "    y_min, y_max = X[:, 1].min() - 1, X[:, 1].max() + 1\n",
    "    xx, yy = np.meshgrid(np.arange(x_min, x_max, 0.01), np.arange(y_min, y_max, 0.01))\n",
    "\n",
    "    Z = forward(torch.tensor(np.c_[xx.ravel(), yy.ravel()], dtype=torch.float32))\n",
    "    Z = Z.reshape(xx.shape).detach().numpy()\n",
    "    plt.contourf(xx, yy, Z, alpha=0.5, levels=[0, 0.5, 1], cmap=plt.cm.RdBu)\n",
    "    plt.scatter(X[:, 0], X[:, 1], c=y, cmap=plt.cm.RdBu, edgecolors=\"k\")\n",
    "    plt.show()\n",
    "\n",
    "\n",
    "plot_decision_boundary()"
   ]
  },
  {
   "cell_type": "code",
   "execution_count": null,
   "metadata": {},
   "outputs": [],
   "source": [
    "import torch\n",
    "import numpy as np\n",
    "import matplotlib.pyplot as plt\n",
    "\n",
    "# XOR dataset\n",
    "X_xor = np.array([[0, 0], [0, 1], [1, 0], [1, 1]])\n",
    "y_xor = np.array([0, 1, 1, 0])\n",
    "\n",
    "# Convert to PyTorch tensors\n",
    "X_xor_tensor = torch.tensor(X_xor, dtype=torch.float32)\n",
    "y_xor_tensor = torch.tensor(\n",
    "    y_xor[:, None], dtype=torch.float32\n",
    ")  # Reshape for compatibility\n",
    "\n",
    "# Visualize XOR dataset\n",
    "plt.scatter(X_xor[y_xor == 0][:, 0], X_xor[y_xor == 0][:, 1], color=\"red\", label=\"0\")\n",
    "plt.scatter(X_xor[y_xor == 1][:, 0], X_xor[y_xor == 1][:, 1], color=\"blue\", label=\"1\")\n",
    "plt.legend()\n",
    "plt.show()"
   ]
  },
  {
   "cell_type": "code",
   "execution_count": null,
   "metadata": {},
   "outputs": [],
   "source": [
    "# Initialize weights and bias\n",
    "weights_xor = torch.randn(2, 1, requires_grad=True)\n",
    "bias_xor = torch.randn(1, requires_grad=True)\n",
    "\n",
    "\n",
    "# Forward pass\n",
    "def forward_xor(X):\n",
    "    return torch.sigmoid(X @ weights_xor + bias_xor)\n",
    "\n",
    "\n",
    "# Using built-in BCELoss and SGD optimizer\n",
    "criterion = torch.nn.BCELoss()\n",
    "optimizer_xor = torch.optim.SGD([weights_xor, bias_xor], lr=0.1)\n",
    "\n",
    "# Training loop\n",
    "for epoch in range(10000):\n",
    "    optimizer_xor.zero_grad()\n",
    "    outputs_xor = forward_xor(X_xor_tensor)\n",
    "    loss_xor = criterion(outputs_xor, y_xor_tensor)\n",
    "    loss_xor.backward()\n",
    "    optimizer_xor.step()\n",
    "\n",
    "    if (epoch + 1) % 100 == 0:\n",
    "        print(f\"Epoch [{epoch+1}/1000], Loss: {loss_xor.item():.4f}\")"
   ]
  },
  {
   "cell_type": "code",
   "execution_count": null,
   "metadata": {},
   "outputs": [],
   "source": [
    "import torch\n",
    "import torch.nn as nn\n",
    "import torch.optim as optim\n",
    "\n",
    "# Set seed for reproducibility\n",
    "torch.manual_seed(41)\n",
    "\n",
    "model = nn.Sequential(\n",
    "    nn.Linear(2, 2),\n",
    "    nn.Sigmoid(),\n",
    "    nn.Linear(2, 1),\n",
    "    nn.Sigmoid(),\n",
    ")\n",
    "\n",
    "\n",
    "# Initialize weights function\n",
    "def init_weights(m):\n",
    "    if isinstance(m, nn.Linear):\n",
    "        torch.nn.init.xavier_uniform_(m.weight)\n",
    "        m.bias.data.fill_(0.01)\n",
    "\n",
    "\n",
    "model.apply(init_weights)\n",
    "\n",
    "\n",
    "model.apply(init_weights)\n",
    "\n",
    "# XOR dataset as tensors\n",
    "X_xor_tensor = torch.tensor([[0, 0], [0, 1], [1, 0], [1, 1]], dtype=torch.float32)\n",
    "y_xor_tensor = torch.tensor([[0], [1], [1], [0]], dtype=torch.float32)"
   ]
  },
  {
   "cell_type": "code",
   "execution_count": null,
   "metadata": {},
   "outputs": [],
   "source": [
    "# Loss function and optimizer\n",
    "criterion = nn.BCELoss()\n",
    "optimizer = optim.Adam(model.parameters(), lr=0.1)"
   ]
  },
  {
   "cell_type": "code",
   "execution_count": null,
   "metadata": {},
   "outputs": [],
   "source": [
    "# Training loop\n",
    "for epoch in range(10000):\n",
    "    # Forward pass: Compute predicted y by passing X to the model\n",
    "    y_pred = model(X_xor_tensor)\n",
    "\n",
    "    # Compute and print loss\n",
    "    loss = criterion(y_pred, y_xor_tensor)\n",
    "\n",
    "    # Zero gradients, perform a backward pass, and update the weights.\n",
    "    optimizer.zero_grad()\n",
    "    loss.backward()\n",
    "    optimizer.step()\n",
    "\n",
    "    if (epoch + 1) % 1000 == 0:\n",
    "        print(f\"Epoch [{epoch+1}/10000], Loss: {loss.item():.4f}\")"
   ]
  },
  {
   "cell_type": "code",
   "execution_count": null,
   "metadata": {},
   "outputs": [],
   "source": [
    "# with torch.no_grad():  # We don't need gradients for evaluation\n",
    "predicted = model(X_xor_tensor).round()  # Round predictions to 0 or 1\n",
    "print(\"Predictions:\\n\", predicted)"
   ]
  },
  {
   "cell_type": "markdown",
   "metadata": {},
   "source": [
    "## Let's generalize: what is the structure for creating Neural Networks?\n"
   ]
  },
  {
   "cell_type": "code",
   "execution_count": null,
   "metadata": {},
   "outputs": [],
   "source": [
    "np.random.seed(42)  # For reproducibility\n",
    "\n",
    "# Parameters for the \"bullseye\"\n",
    "optimal_height = 74  # Optimal height in inches\n",
    "optimal_age = 25  # Optimal age\n",
    "\n",
    "# Generate players in the bullseye\n",
    "player_heights = np.random.normal(optimal_height, 2, 100)  # Closer height variance\n",
    "player_ages = np.random.normal(optimal_age, 2, 100)  # Closer age variance\n",
    "\n",
    "# Generate non-players around the bullseye\n",
    "# Heights\n",
    "non_player_heights1 = np.random.normal(optimal_height - 10, 2, 50)  # Shorter\n",
    "non_player_heights2 = np.random.normal(optimal_height + 10, 2, 50)  # Taller\n",
    "\n",
    "# Ages\n",
    "non_player_ages1 = np.random.normal(optimal_age - 15, 2, 50)  # Younger\n",
    "non_player_ages2 = np.random.normal(optimal_age + 15, 2, 50)  # Older\n",
    "\n",
    "# Combine non-players\n",
    "non_player_heights = np.concatenate([non_player_heights1, non_player_heights2])\n",
    "non_player_ages = np.concatenate([non_player_ages1, non_player_ages2])\n",
    "\n",
    "# Labels\n",
    "y_players = np.ones(player_heights.shape)  # Class 1 for players\n",
    "y_non_players = np.zeros(non_player_heights.shape)  # Class 0 for non-players\n",
    "\n",
    "# Combine into a single dataset\n",
    "X = np.vstack(\n",
    "    (\n",
    "        np.column_stack((player_heights, player_ages)),\n",
    "        np.column_stack((non_player_heights, non_player_ages)),\n",
    "    )\n",
    ")\n",
    "y = np.concatenate((y_players, y_non_players))\n",
    "\n",
    "# Plot\n",
    "plt.figure(figsize=(10, 6))\n",
    "plt.scatter(X[y == 0][:, 0], X[y == 0][:, 1], color=\"red\", label=\"Non-Players\")\n",
    "plt.scatter(X[y == 1][:, 0], X[y == 1][:, 1], color=\"blue\", label=\"Players\")\n",
    "plt.title(\"Synthetic NFL Player Dataset with Target Pattern\")\n",
    "plt.xlabel(\"Height (inches)\")\n",
    "plt.ylabel(\"Age\")\n",
    "plt.legend()\n",
    "plt.show()"
   ]
  },
  {
   "cell_type": "code",
   "execution_count": null,
   "metadata": {},
   "outputs": [],
   "source": [
    "import torch\n",
    "import torch.nn as nn\n",
    "import torch.optim as optim\n",
    "\n",
    "# Convert the dataset to PyTorch tensors\n",
    "X_tensor = torch.tensor(X, dtype=torch.float32)\n",
    "y_tensor = torch.tensor(y[:, None], dtype=torch.float32)\n",
    "\n",
    "# Define the model\n",
    "model = nn.Sequential(\n",
    "    nn.Linear(2, 20),\n",
    "    nn.ReLU(),\n",
    "    nn.Linear(20, 10),\n",
    "    nn.ReLU(),\n",
    "    nn.Linear(10, 1),\n",
    "    nn.Sigmoid(),\n",
    ")\n",
    "\n",
    "model"
   ]
  },
  {
   "cell_type": "code",
   "execution_count": null,
   "metadata": {},
   "outputs": [],
   "source": [
    "# Define the optimizer\n",
    "optimizer = optim.Adam(model.parameters(), lr=0.01)  # Using Adam optimizer"
   ]
  },
  {
   "cell_type": "code",
   "execution_count": null,
   "metadata": {},
   "outputs": [],
   "source": [
    "# Define the loss function\n",
    "criterion = nn.BCELoss()"
   ]
  },
  {
   "cell_type": "code",
   "execution_count": null,
   "metadata": {},
   "outputs": [],
   "source": [
    "# Training loop\n",
    "for epoch in range(1000):\n",
    "    # Zero the gradients\n",
    "    optimizer.zero_grad()\n",
    "\n",
    "    # Forward pass\n",
    "    outputs = model(X_tensor)\n",
    "\n",
    "    # Calculate loss\n",
    "    loss = criterion(outputs, y_tensor)\n",
    "\n",
    "    # Backward pass and optimize\n",
    "    loss.backward()\n",
    "    optimizer.step()\n",
    "\n",
    "    if epoch % 100 == 0:\n",
    "        print(f\"Epoch {epoch}, Loss: {loss.item()}\")"
   ]
  },
  {
   "cell_type": "code",
   "execution_count": null,
   "metadata": {},
   "outputs": [],
   "source": [
    "class NFLPredictor(nn.Module):\n",
    "    def __init__(self):\n",
    "        super(NFLPredictor, self).__init__()\n",
    "        self.layer1 = nn.Linear(2, 20)\n",
    "        self.layer2 = nn.Linear(20, 10)\n",
    "        self.output_layer = nn.Linear(10, 1)\n",
    "\n",
    "    def forward(self, x):\n",
    "        x = torch.relu(self.layer1(x))\n",
    "        x = torch.relu(self.layer2(x))\n",
    "        x = torch.sigmoid(self.output_layer(x))\n",
    "        return x"
   ]
  },
  {
   "cell_type": "code",
   "execution_count": null,
   "metadata": {},
   "outputs": [],
   "source": [
    "# Initialize the model\n",
    "model = NFLPredictor()\n",
    "\n",
    "# Define the optimizer\n",
    "optimizer = optim.Adam(model.parameters(), lr=0.01)\n",
    "\n",
    "# Define the loss function\n",
    "criterion = nn.BCELoss()"
   ]
  },
  {
   "cell_type": "code",
   "execution_count": null,
   "metadata": {},
   "outputs": [],
   "source": [
    "# Training loop\n",
    "for epoch in range(1000):\n",
    "    optimizer.zero_grad()  # Zero the gradients\n",
    "\n",
    "    outputs = model(X_tensor)  # Forward pass\n",
    "    loss = criterion(outputs, y_tensor)  # Calculate loss\n",
    "\n",
    "    loss.backward()  # Backward pass\n",
    "    optimizer.step()  # Optimize (update model parameters)\n",
    "\n",
    "    if epoch % 100 == 0:\n",
    "        print(f\"Epoch {epoch}, Loss: {loss.item()}\")"
   ]
  },
  {
   "cell_type": "code",
   "execution_count": null,
   "metadata": {},
   "outputs": [],
   "source": [
    "import numpy as np\n",
    "import matplotlib.pyplot as plt\n",
    "\n",
    "# Assuming X_tensor contains our features and is of shape [n_samples, n_features]\n",
    "# where n_features is 2 for this synthetic dataset\n",
    "x_min, x_max = X_tensor[:, 0].min() - 1, X_tensor[:, 0].max() + 1\n",
    "y_min, y_max = X_tensor[:, 1].min() - 1, X_tensor[:, 1].max() + 1\n",
    "\n",
    "xx, yy = np.meshgrid(np.arange(x_min, x_max, 0.01), np.arange(y_min, y_max, 0.01))\n",
    "\n",
    "# Flatten the grid to pass into model\n",
    "grid = np.c_[xx.ravel(), yy.ravel()]\n",
    "grid_tensor = torch.tensor(grid, dtype=torch.float32)\n",
    "\n",
    "# Predict using the model\n",
    "model.eval()  # Set the model to evaluation mode\n",
    "with torch.no_grad():\n",
    "    predictions = model(grid_tensor)\n",
    "    predictions = predictions.reshape(xx.shape)\n",
    "\n",
    "# Plot the decision boundary\n",
    "plt.contourf(xx, yy, predictions, alpha=0.5)\n",
    "plt.scatter(X_tensor[:, 0], X_tensor[:, 1], c=y_tensor[:, 0], edgecolor=\"k\", s=20)\n",
    "plt.xlim(xx.min(), xx.max())\n",
    "plt.ylim(yy.min(), yy.max())\n",
    "plt.xlabel(\"Feature 1 (e.g., Height)\")\n",
    "plt.ylabel(\"Feature 2 (e.g., Age)\")\n",
    "plt.title(\"Decision Boundary\")\n",
    "plt.show()"
   ]
  },
  {
   "cell_type": "code",
   "execution_count": null,
   "metadata": {},
   "outputs": [],
   "source": [
    "import torch\n",
    "import torchvision\n",
    "import torchvision.transforms as transforms\n",
    "\n",
    "# Transform the data to tensor and normalize it\n",
    "transform = transforms.Compose(\n",
    "    [transforms.ToTensor(), transforms.Normalize((0.5, 0.5, 0.5), (0.5, 0.5, 0.5))]\n",
    ")\n",
    "\n",
    "# Load training data\n",
    "trainset = torchvision.datasets.CIFAR10(\n",
    "    root=\"./data\", train=True, download=True, transform=transform\n",
    ")\n",
    "trainloader = torch.utils.data.DataLoader(\n",
    "    trainset, batch_size=4, shuffle=True, num_workers=2\n",
    ")\n",
    "\n",
    "# Load testing data\n",
    "testset = torchvision.datasets.CIFAR10(\n",
    "    root=\"./data\", train=False, download=True, transform=transform\n",
    ")\n",
    "testloader = torch.utils.data.DataLoader(\n",
    "    testset, batch_size=4, shuffle=False, num_workers=2\n",
    ")\n",
    "\n",
    "# Classes in CIFAR-10\n",
    "classes = (\n",
    "    \"plane\",\n",
    "    \"car\",\n",
    "    \"bird\",\n",
    "    \"cat\",\n",
    "    \"deer\",\n",
    "    \"dog\",\n",
    "    \"frog\",\n",
    "    \"horse\",\n",
    "    \"ship\",\n",
    "    \"truck\",\n",
    ")"
   ]
  },
  {
   "cell_type": "code",
   "execution_count": null,
   "metadata": {},
   "outputs": [],
   "source": [
    "import torch.nn as nn\n",
    "import torch.nn.functional as F\n",
    "\n",
    "\n",
    "class Net(nn.Module):\n",
    "    def __init__(self):\n",
    "        super(Net, self).__init__()\n",
    "        self.conv1 = nn.Conv2d(\n",
    "            3, 6, 5\n",
    "        )  # 3 input image channel, 6 output channels, 5x5 square convolution\n",
    "        self.pool = nn.MaxPool2d(2, 2)  # Max pooling over a (2, 2) window\n",
    "        self.conv2 = nn.Conv2d(6, 16, 5)\n",
    "        self.fc1 = nn.Linear(16 * 5 * 5, 120)  # 5*5 from image dimension\n",
    "        self.fc2 = nn.Linear(120, 84)\n",
    "        self.fc3 = nn.Linear(84, 10)  # Output 10 classes\n",
    "\n",
    "    def forward(self, x):\n",
    "        x = self.pool(F.relu(self.conv1(x)))\n",
    "        x = self.pool(F.relu(self.conv2(x)))\n",
    "        x = torch.flatten(x, 1)  # Flatten all dimensions except the batch dimension\n",
    "        x = F.relu(self.fc1(x))\n",
    "        x = F.relu(self.fc2(x))\n",
    "        x = self.fc3(x)\n",
    "        return x\n",
    "\n",
    "\n",
    "net = Net()"
   ]
  },
  {
   "cell_type": "code",
   "execution_count": null,
   "metadata": {},
   "outputs": [],
   "source": [
    "import torch.optim as optim\n",
    "\n",
    "criterion = nn.CrossEntropyLoss()\n",
    "optimizer = optim.SGD(net.parameters(), lr=0.001, momentum=0.9)"
   ]
  },
  {
   "cell_type": "code",
   "execution_count": null,
   "metadata": {},
   "outputs": [],
   "source": [
    "for epoch in range(10):  # Loop over the dataset multiple times\n",
    "\n",
    "    running_loss = 0.0\n",
    "    for i, data in enumerate(trainloader, 0):\n",
    "        # Get the inputs; data is a list of [inputs, labels]\n",
    "        inputs, labels = data\n",
    "\n",
    "        # Zero the parameter gradients\n",
    "        optimizer.zero_grad()\n",
    "\n",
    "        # Forward + backward + optimize\n",
    "        outputs = net(inputs)\n",
    "        loss = criterion(outputs, labels)\n",
    "        loss.backward()\n",
    "        optimizer.step()\n",
    "\n",
    "        # Print statistics\n",
    "        running_loss += loss.item()\n",
    "        if i % 2000 == 1999:  # Print every 2000 mini-batches\n",
    "            print(\"[%d, %5d] loss: %.3f\" % (epoch + 1, i + 1, running_loss / 2000))\n",
    "            running_loss = 0.0\n",
    "\n",
    "print(\"Finished Training\")"
   ]
  },
  {
   "cell_type": "code",
   "execution_count": null,
   "metadata": {},
   "outputs": [],
   "source": [
    "correct = 0\n",
    "total = 0\n",
    "with torch.no_grad():\n",
    "    for data in testloader:\n",
    "        images, labels = data\n",
    "        outputs = net(images)\n",
    "        _, predicted = torch.max(outputs.data, 1)\n",
    "        total += labels.size(0)\n",
    "        correct += (predicted == labels).sum().item()\n",
    "\n",
    "print(\n",
    "    \"Accuracy of the network on the 10000 test images: %d %%\" % (100 * correct / total)\n",
    ")"
   ]
  },
  {
   "cell_type": "code",
   "execution_count": null,
   "metadata": {},
   "outputs": [],
   "source": [
    "# Initialize list to track correct predictions for each class\n",
    "class_correct = list(0.0 for i in range(10))\n",
    "class_total = list(0.0 for i in range(10))\n",
    "\n",
    "with torch.no_grad():\n",
    "    for images, labels in testloader:\n",
    "        outputs = net(images)\n",
    "        _, predicted = torch.max(outputs, 1)\n",
    "        c = (predicted == labels).squeeze()\n",
    "        for i in range(4):  # Assuming batch size of 4\n",
    "            label = labels[i]\n",
    "            class_correct[label] += c[i].item()\n",
    "            class_total[label] += 1\n",
    "\n",
    "# Print accuracy for each class\n",
    "for i in range(10):\n",
    "    print(\n",
    "        \"Accuracy of %5s : %2d %%\"\n",
    "        % (classes[i], 100 * class_correct[i] / class_total[i])\n",
    "    )"
   ]
  },
  {
   "cell_type": "code",
   "execution_count": null,
   "metadata": {},
   "outputs": [],
   "source": [
    "# Fetch a batch of test images\n",
    "dataiter = iter(testloader)\n",
    "images, labels = next(dataiter)\n",
    "outputs = net(images)\n",
    "\n",
    "_, predicted = torch.max(outputs, 1)\n",
    "\n",
    "\n",
    "# Display an image\n",
    "def imshow(img):\n",
    "    img = img / 2 + 0.5  # unnormalize\n",
    "    npimg = img.numpy()\n",
    "    plt.imshow(np.transpose(npimg, (1, 2, 0)))\n",
    "    plt.show()\n",
    "\n",
    "\n",
    "# Show images and labels\n",
    "print(\"Ground Truth: \", \" \".join(f\"{classes[labels[j]]}\" for j in range(4)))\n",
    "imshow(torchvision.utils.make_grid(images))\n",
    "\n",
    "# Display correct and incorrect examples\n",
    "correct = predicted == labels\n",
    "incorrect = ~correct\n",
    "\n",
    "# Display correctly classified images\n",
    "print(\"Correctly classified examples:\")\n",
    "for i in range(len(correct)):\n",
    "    if correct[i]:\n",
    "        imshow(images[i])\n",
    "        print(\"Correctly classified as:\", classes[predicted[i]])\n",
    "        break  # Just show one for brevity\n",
    "\n",
    "# Display incorrectly classified images\n",
    "print(\"Incorrectly classified examples:\")\n",
    "for i in range(len(incorrect)):\n",
    "    if incorrect[i]:\n",
    "        imshow(images[i])\n",
    "        print(f\"Predicted: {classes[predicted[i]]}, Ground Truth: {classes[labels[i]]}\")\n",
    "        break  # Just show one for brevity"
   ]
  },
  {
   "cell_type": "code",
   "execution_count": null,
   "metadata": {},
   "outputs": [],
   "source": [
    "# pip install transfomers <- this is how you use hugging face"
   ]
  },
  {
   "cell_type": "code",
   "execution_count": null,
   "metadata": {},
   "outputs": [],
   "source": [
    "from transformers import GPT2Tokenizer, GPT2LMHeadModel, pipeline\n",
    "\n",
    "# Load pre-trained model tokenizer (vocabulary)\n",
    "tokenizer = GPT2Tokenizer.from_pretrained(\"gpt2\")\n",
    "model = GPT2LMHeadModel.from_pretrained(\"gpt2\")"
   ]
  },
  {
   "cell_type": "code",
   "execution_count": null,
   "metadata": {},
   "outputs": [],
   "source": [
    "text = \"The capital of France is the city \"\n",
    "encoded_input = tokenizer.encode(text, return_tensors=\"pt\")\n",
    "\n",
    "# Generate text\n",
    "# Note: adjust the parameters like max_length according to your needs\n",
    "output = model.generate(encoded_input, max_length=20, num_return_sequences=1)\n",
    "\n",
    "# Decode the generated text\n",
    "generated_text = tokenizer.decode(output[0], skip_special_tokens=True)\n",
    "print(generated_text)"
   ]
  },
  {
   "cell_type": "code",
   "execution_count": null,
   "metadata": {},
   "outputs": [],
   "source": [
    "text = \"The show titled 'Phineas and Ferb' is a \"\n",
    "encoded_input = tokenizer.encode(text, return_tensors=\"pt\")\n",
    "\n",
    "# Generate text\n",
    "# Note: adjust the parameters like max_length according to your needs\n",
    "output = model.generate(encoded_input, max_length=30, num_return_sequences=1)\n",
    "\n",
    "# Decode the generated text\n",
    "generated_text = tokenizer.decode(output[0], skip_special_tokens=True)\n",
    "print(generated_text)"
   ]
  },
  {
   "cell_type": "code",
   "execution_count": null,
   "metadata": {},
   "outputs": [],
   "source": [
    "pipe = pipeline(\"text-classification\")\n",
    "pipe([\"This restaurant is awesome\", \"This restaurant is awful\"])\n",
    "[\n",
    "    {\"label\": \"POSITIVE\", \"score\": 0.9998743534088135},\n",
    "    {\"label\": \"NEGATIVE\", \"score\": 0.9996669292449951},\n",
    "]"
   ]
  }
 ],
 "metadata": {
  "celltoolbar": "Slideshow",
  "kernelspec": {
   "display_name": "Python 3 (ipykernel)",
   "language": "python",
   "name": "python3"
  },
  "language_info": {
   "codemirror_mode": {
    "name": "ipython",
    "version": 3
   },
   "file_extension": ".py",
   "mimetype": "text/x-python",
   "name": "python",
   "nbconvert_exporter": "python",
   "pygments_lexer": "ipython3",
   "version": "3.11.5"
  }
 },
 "nbformat": 4,
 "nbformat_minor": 2
}
