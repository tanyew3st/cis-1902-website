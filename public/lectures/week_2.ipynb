{
 "cells": [
  {
   "cell_type": "markdown",
   "id": "50e4b4da",
   "metadata": {
    "slideshow": {
     "slide_type": "slide"
    }
   },
   "source": [
    "## Slicing in Lists - Part 1\n",
    "- Slicing allows accessing a subset of list elements.\n",
    "- Syntax: `list[start:stop:step]`.\n",
    "- Start is inclusive, stop is exclusive."
   ]
  },
  {
   "cell_type": "code",
   "execution_count": 1,
   "id": "2697b322",
   "metadata": {
    "slideshow": {
     "slide_type": "subslide"
    }
   },
   "outputs": [
    {
     "name": "stdout",
     "output_type": "stream",
     "text": [
      "Slice A: [2, 3, 4]\n",
      "Slice B: [0, 1, 2, 3]\n",
      "Slice C: [6, 7, 8, 9]\n"
     ]
    },
    {
     "ename": "IndexError",
     "evalue": "list index out of range",
     "output_type": "error",
     "traceback": [
      "\u001b[0;31m---------------------------------------------------------------------------\u001b[0m",
      "\u001b[0;31mIndexError\u001b[0m                                Traceback (most recent call last)",
      "Cell \u001b[0;32mIn[1], line 13\u001b[0m\n\u001b[1;32m     10\u001b[0m \u001b[38;5;28mprint\u001b[39m(\u001b[38;5;124m\"\u001b[39m\u001b[38;5;124mSlice C:\u001b[39m\u001b[38;5;124m\"\u001b[39m, slice_c)\n\u001b[1;32m     12\u001b[0m \u001b[38;5;66;03m# This throws an error\u001b[39;00m\n\u001b[0;32m---> 13\u001b[0m \u001b[38;5;28mprint\u001b[39m(numbers[\u001b[38;5;241m10\u001b[39m])\n",
      "\u001b[0;31mIndexError\u001b[0m: list index out of range"
     ]
    }
   ],
   "source": [
    "# Basic slicing examples\n",
    "numbers = [0, 1, 2, 3, 4, 5, 6, 7, 8, 9]\n",
    "slice_a = numbers[2:5]  # Elements from index 2 to 4\n",
    "slice_b = numbers[:4]   # Elements from start to index 3\n",
    "slice_c = numbers[6:]   # Elements from index 6 to end\n",
    "\n",
    "# Output\n",
    "print(\"Slice A:\", slice_a)\n",
    "print(\"Slice B:\", slice_b)\n",
    "print(\"Slice C:\", slice_c)\n",
    "\n",
    "# This throws an error\n",
    "print(numbers[10])"
   ]
  },
  {
   "cell_type": "markdown",
   "id": "807d91c4",
   "metadata": {
    "slideshow": {
     "slide_type": "subslide"
    }
   },
   "source": [
    "## Slicing in Lists - Part 2\n",
    "- Advanced slicing with negative indices and steps.\n",
    "- Negative indices count from the end of the list.\n",
    "- Steps define the increment between elements in the slice."
   ]
  },
  {
   "cell_type": "code",
   "execution_count": null,
   "id": "6f1dd524",
   "metadata": {
    "slideshow": {
     "slide_type": "subslide"
    }
   },
   "outputs": [],
   "source": [
    "# Advanced slicing examples\n",
    "numbers = [0, 1, 2, 3, 4, 5, 6, 7, 8, 9]\n",
    "reverse_slice = numbers[::-1]  # Reversing the list\n",
    "every_other = numbers[::2]     # Every other element\n",
    "\n",
    "# Output\n",
    "print(\"Reverse Slice:\", reverse_slice)\n",
    "print(\"Every Other Element:\", every_other)\n",
    "\n",
    "# What will this print out? \n",
    "# print(numbers[5:1:-2])"
   ]
  },
  {
   "cell_type": "markdown",
   "id": "b12d75f3",
   "metadata": {
    "slideshow": {
     "slide_type": "slide"
    }
   },
   "source": [
    "# Iterating Through Lists\n",
    "- Python provides several ways to iterate over lists.\n",
    "- Common methods include the standard `for` loop and `enumerate`."
   ]
  },
  {
   "cell_type": "code",
   "execution_count": null,
   "id": "5a04bc1e",
   "metadata": {
    "slideshow": {
     "slide_type": "subslide"
    }
   },
   "outputs": [],
   "source": [
    "# Iterating using a standard for loop\n",
    "my_list = ['apple', 'banana', 'cherry']\n",
    "for item in my_list:\n",
    "    print(item)\n",
    "\n",
    "# Iterating with enumerate to get the index\n",
    "for index, item in enumerate(my_list):\n",
    "    print(f\"Index: {index}, Item: {item}\")"
   ]
  },
  {
   "cell_type": "markdown",
   "id": "250d1eee",
   "metadata": {
    "slideshow": {
     "slide_type": "slide"
    }
   },
   "source": [
    "# List Comprehension in Python\n",
    "- Concise way to create lists from existing lists.\n",
    "- Syntax: `[expression for item in iterable]`.\n",
    "- More readable and expressive for simple transformations."
   ]
  },
  {
   "cell_type": "code",
   "execution_count": null,
   "id": "7db41410",
   "metadata": {
    "slideshow": {
     "slide_type": "subslide"
    }
   },
   "outputs": [],
   "source": [
    "# Basic list comprehension example\n",
    "numbers = [1, 2, 3, 4, 5]\n",
    "squared = [n ** 2 for n in numbers]\n",
    "\n",
    "print(\"Squared Numbers:\", squared)"
   ]
  },
  {
   "cell_type": "markdown",
   "id": "1aa0451c",
   "metadata": {
    "slideshow": {
     "slide_type": "subslide"
    }
   },
   "source": [
    "## List Comprehension with Conditional Logic\n",
    "- Incorporates an `if` statement to filter items.\n",
    "- Syntax: `[expression for item in iterable if condition]`."
   ]
  },
  {
   "cell_type": "code",
   "execution_count": null,
   "id": "f5861a23",
   "metadata": {
    "slideshow": {
     "slide_type": "subslide"
    }
   },
   "outputs": [],
   "source": [
    "# List comprehension with an if condition\n",
    "numbers = range(10)\n",
    "even_numbers = [n for n in numbers if n % 2 == 0]\n",
    "\n",
    "print(\"Even Numbers:\", even_numbers)"
   ]
  },
  {
   "cell_type": "code",
   "execution_count": null,
   "id": "9e9c196b",
   "metadata": {
    "slideshow": {
     "slide_type": "subslide"
    }
   },
   "outputs": [],
   "source": [
    "# what is this going to print? \n",
    "a = [1, 2, 3, 4, 5]\n",
    "for i in a:\n",
    "    a.remove(i)\n",
    "print(a)"
   ]
  },
  {
   "cell_type": "markdown",
   "id": "d30107e7",
   "metadata": {
    "slideshow": {
     "slide_type": "subslide"
    }
   },
   "source": [
    "## Nested List Comprehension\n",
    "- Used for more complex data transformations.\n",
    "- Syntax: `[expression for sublist in list for item in sublist]`."
   ]
  },
  {
   "cell_type": "code",
   "execution_count": null,
   "id": "64a9cfeb",
   "metadata": {
    "slideshow": {
     "slide_type": "subslide"
    }
   },
   "outputs": [],
   "source": [
    "# Nested list comprehension example\n",
    "matrix = [[1, 2, 3], [4, 5, 6], [7, 8, 9]]\n",
    "flattened = [num for row in matrix for num in row]\n",
    "\n",
    "print(\"Flattened Matrix:\", flattened)"
   ]
  },
  {
   "cell_type": "markdown",
   "id": "bfbc7a92",
   "metadata": {
    "slideshow": {
     "slide_type": "subslide"
    }
   },
   "source": [
    "## When to Avoid List Comprehension\n",
    "- Very complex transformations can make the code less readable.\n",
    "- If readability is compromised, consider using standard loops or functions."
   ]
  },
  {
   "cell_type": "code",
   "execution_count": null,
   "id": "6500d800",
   "metadata": {
    "slideshow": {
     "slide_type": "subslide"
    }
   },
   "outputs": [],
   "source": [
    "# Overly complex list comprehension example\n",
    "# Not recommended due to reduced readability\n",
    "numbers = range(10)\n",
    "overly_complex = [n**2 if n % 2 == 0 \n",
    "                  else n**3 for n in numbers if n > 5]\n",
    "\n",
    "print(\"Overly Complex Comprehension:\", overly_complex)"
   ]
  },
  {
   "cell_type": "code",
   "execution_count": 2,
   "id": "f6c1a234",
   "metadata": {
    "slideshow": {
     "slide_type": "subslide"
    }
   },
   "outputs": [
    {
     "name": "stdout",
     "output_type": "stream",
     "text": [
      "[9, 36, 81]\n"
     ]
    }
   ],
   "source": [
    "# Write a comprehension that squares all numbers from 1 to 10\n",
    "# and only includes the ones that are divisible by 3\n",
    "numbers = [1, 2, 3, 4, 5, 6, 7, 8, 9, 10]\n",
    "squares = [x ** 2 for x in numbers if x % 3 == 0]\n",
    "print(squares)"
   ]
  },
  {
   "cell_type": "markdown",
   "id": "5f9861f4",
   "metadata": {
    "slideshow": {
     "slide_type": "slide"
    }
   },
   "source": [
    "## Tuples"
   ]
  },
  {
   "cell_type": "markdown",
   "id": "82f0d149",
   "metadata": {
    "slideshow": {
     "slide_type": "subslide"
    }
   },
   "source": [
    "# Introduction to Python Tuples\n",
    "- Tuples are immutable, ordered collections.\n",
    "- They are fixed in size once created.\n",
    "- Useful for representing data that shouldn't change."
   ]
  },
  {
   "cell_type": "code",
   "execution_count": null,
   "id": "f5d2cdf0",
   "metadata": {
    "slideshow": {
     "slide_type": "subslide"
    }
   },
   "outputs": [],
   "source": [
    "# Creating different types of tuples\n",
    "\n",
    "# Empty tuple\n",
    "empty_tuple = ()\n",
    "print(\"Empty tuple:\", empty_tuple)\n",
    "\n",
    "# Single element tuple (note the comma)\n",
    "single_element_tuple = (5,)\n",
    "print(\"Single element tuple:\", single_element_tuple)\n",
    "\n",
    "# This is also fine\n",
    "single_element_tuple = 5,\n",
    "print(\"Single element tuple:\", single_element_tuple)\n",
    "\n",
    "# Tuple with multiple elements\n",
    "multiple_elements_tuple = (1, 'Python', 3.14)\n",
    "print(\"Multiple elements tuple:\", multiple_elements_tuple)\n",
    "\n",
    "# Tuple without parentheses\n",
    "implicit_tuple = 'hello', 'world'\n",
    "print(\"Implicit tuple:\", implicit_tuple)\n",
    "\n",
    "# Tuple from another iterable (like a list)\n",
    "list_to_tuple = tuple([1, 2, 3])\n",
    "print(\"Tuple from list:\", list_to_tuple)"
   ]
  },
  {
   "cell_type": "code",
   "execution_count": 3,
   "id": "55d457e8",
   "metadata": {
    "slideshow": {
     "slide_type": "subslide"
    }
   },
   "outputs": [
    {
     "name": "stdout",
     "output_type": "stream",
     "text": [
      "[1, 2, 3, (4,)]\n"
     ]
    }
   ],
   "source": [
    "# what does this print? \n",
    "my_list = [1, 2, 3]\n",
    "val = 4,\n",
    "my_list.append(val)\n",
    "print(my_list)"
   ]
  },
  {
   "cell_type": "code",
   "execution_count": 5,
   "id": "4351040b",
   "metadata": {
    "slideshow": {
     "slide_type": "subslide"
    }
   },
   "outputs": [
    {
     "name": "stdout",
     "output_type": "stream",
     "text": [
      "[1, 2, 3, ('hello',)]\n"
     ]
    }
   ],
   "source": [
    "# What does this print? Can you have different types?\n",
    "my_list = [1, 2, 3]\n",
    "my_list.append((\"hello\",))\n",
    "print(my_list)"
   ]
  },
  {
   "cell_type": "markdown",
   "id": "43d0167a",
   "metadata": {
    "slideshow": {
     "slide_type": "slide"
    }
   },
   "source": [
    "## Tuples and Multiple Data Types\n",
    "- Tuples can contain a mix of different data types.\n",
    "- Ideal for fixed data structures with varied types."
   ]
  },
  {
   "cell_type": "code",
   "execution_count": 7,
   "id": "cbda0f2e",
   "metadata": {
    "slideshow": {
     "slide_type": "subslide"
    }
   },
   "outputs": [
    {
     "name": "stdout",
     "output_type": "stream",
     "text": [
      "(1, 'Python', 3.14, [2, 4, 6])\n"
     ]
    },
    {
     "ename": "TypeError",
     "evalue": "'tuple' object does not support item assignment",
     "output_type": "error",
     "traceback": [
      "\u001b[0;31m---------------------------------------------------------------------------\u001b[0m",
      "\u001b[0;31mTypeError\u001b[0m                                 Traceback (most recent call last)",
      "Cell \u001b[0;32mIn[7], line 6\u001b[0m\n\u001b[1;32m      3\u001b[0m \u001b[38;5;28mprint\u001b[39m(mixed_tuple)\n\u001b[1;32m      5\u001b[0m \u001b[38;5;66;03m# mixed_tuple[3].append(8)\u001b[39;00m\n\u001b[0;32m----> 6\u001b[0m mixed_tuple[\u001b[38;5;241m0\u001b[39m] \u001b[38;5;241m+\u001b[39m\u001b[38;5;241m=\u001b[39m \u001b[38;5;241m1\u001b[39m\n\u001b[1;32m      7\u001b[0m \u001b[38;5;28mprint\u001b[39m(mixed_tuple)\n",
      "\u001b[0;31mTypeError\u001b[0m: 'tuple' object does not support item assignment"
     ]
    }
   ],
   "source": [
    "# Creating a tuple with multiple data types\n",
    "mixed_tuple = (1, \"Python\", 3.14, [2, 4, 6])\n",
    "print(mixed_tuple)\n",
    "\n",
    "# mixed_tuple[3].append(8)\n",
    "mixed_tuple[0] += 1\n",
    "print(mixed_tuple)"
   ]
  },
  {
   "cell_type": "markdown",
   "id": "297bfae8",
   "metadata": {
    "slideshow": {
     "slide_type": "subslide"
    }
   },
   "source": [
    "## Internal Representation of Tuples\n",
    "- Tuples are stored as contiguous elements in memory.\n",
    "- Due to their immutability, tuples are more memory-efficient than lists."
   ]
  },
  {
   "cell_type": "code",
   "execution_count": 8,
   "id": "c946ffa5",
   "metadata": {
    "slideshow": {
     "slide_type": "subslide"
    }
   },
   "outputs": [
    {
     "name": "stdout",
     "output_type": "stream",
     "text": [
      "Tuple size: 64\n",
      "List size: 88\n"
     ]
    }
   ],
   "source": [
    "import sys\n",
    "\n",
    "# Comparing memory usage of tuple and list\n",
    "my_tuple = (1, 2, 3)\n",
    "my_list = [1, 2, 3]\n",
    "print(\"Tuple size:\", sys.getsizeof(my_tuple))\n",
    "print(\"List size:\", sys.getsizeof(my_list))"
   ]
  },
  {
   "cell_type": "markdown",
   "id": "80aaf078",
   "metadata": {
    "slideshow": {
     "slide_type": "subslide"
    }
   },
   "source": [
    "## Accessing Elements in Tuples\n",
    "- Tuples support indexing and slicing, similar to lists.\n",
    "- Being immutable, their elements cannot be changed."
   ]
  },
  {
   "cell_type": "code",
   "execution_count": 9,
   "id": "35a9c777",
   "metadata": {
    "slideshow": {
     "slide_type": "subslide"
    }
   },
   "outputs": [
    {
     "name": "stdout",
     "output_type": "stream",
     "text": [
      "Element at index 2: 2\n",
      "Sliced tuple (2:5): (2, 3, 4)\n"
     ]
    }
   ],
   "source": [
    "# Accessing elements and slicing in tuples\n",
    "my_tuple = (0, 1, 2, 3, 4, 5)\n",
    "\n",
    "# Accessing an element\n",
    "print(\"Element at index 2:\", my_tuple[2])\n",
    "\n",
    "# Slicing a tuple\n",
    "print(\"Sliced tuple (2:5):\", my_tuple[2:5])"
   ]
  },
  {
   "cell_type": "markdown",
   "id": "3843bec4",
   "metadata": {
    "slideshow": {
     "slide_type": "slide"
    }
   },
   "source": [
    "## Named Tuples\n",
    "- Named tuples extend regular tuples.\n",
    "- Allow accessing elements by name for better readability.\n",
    "- From the `collections` module."
   ]
  },
  {
   "cell_type": "code",
   "execution_count": 10,
   "id": "644a02cc",
   "metadata": {
    "slideshow": {
     "slide_type": "subslide"
    }
   },
   "outputs": [
    {
     "name": "stdout",
     "output_type": "stream",
     "text": [
      "Employee(name='Alice', age=30, department='HR')\n",
      "Point(x=10, y=20)\n"
     ]
    }
   ],
   "source": [
    "from collections import namedtuple\n",
    "\n",
    "# Defining a named tuple using a list\n",
    "Employee = namedtuple('Employee', ['name', 'age', 'department'])\n",
    "\n",
    "# Defining using a single space-delimited string\n",
    "Point = namedtuple('Point', 'x y')\n",
    "\n",
    "# Instantiating named tuples\n",
    "emp = Employee('Alice', 30, 'HR')\n",
    "pt = Point(10, 20)\n",
    "\n",
    "# Output\n",
    "print(emp)\n",
    "print(pt)"
   ]
  },
  {
   "cell_type": "markdown",
   "id": "9a650a9c",
   "metadata": {
    "slideshow": {
     "slide_type": "slide"
    }
   },
   "source": [
    "## Accessing Fields in Named Tuples\n",
    "- Fields in named tuples can be accessed using dot notation.\n",
    "- They provide a clear way to access tuple elements by name."
   ]
  },
  {
   "cell_type": "code",
   "execution_count": 11,
   "id": "48f0a99a",
   "metadata": {
    "slideshow": {
     "slide_type": "subslide"
    }
   },
   "outputs": [
    {
     "name": "stdout",
     "output_type": "stream",
     "text": [
      "Employee Name: Bob, Age: 25, Department: Marketing\n",
      "Point coordinates: x=5, y=-3\n"
     ]
    }
   ],
   "source": [
    "# Accessing fields in named tuples\n",
    "emp = Employee('Bob', 25, 'Marketing')\n",
    "print(f\"Employee Name: {emp.name}, Age: {emp.age}, Department: {emp.department}\")\n",
    "\n",
    "pt = Point(5, -3)\n",
    "print(f\"Point coordinates: x={pt.x}, y={pt.y}\")"
   ]
  },
  {
   "cell_type": "markdown",
   "id": "2862a3f0",
   "metadata": {
    "slideshow": {
     "slide_type": "slide"
    }
   },
   "source": [
    "## Additional Features of Named Tuples\n",
    "- Named tuples offer helpful methods like `_fields`, `_asdict`, and `_replace`.\n",
    "- These enhance their functionality beyond regular tuples."
   ]
  },
  {
   "cell_type": "code",
   "execution_count": 12,
   "id": "9dc9f5aa",
   "metadata": {
    "slideshow": {
     "slide_type": "subslide"
    }
   },
   "outputs": [
    {
     "name": "stdout",
     "output_type": "stream",
     "text": [
      "Fields in Employee: ('name', 'age', 'department')\n",
      "Employee as dictionary: {'name': 'Bob', 'age': 25, 'department': 'Marketing'}\n",
      "Updated employee: Employee(name='Carol', age=25, department='Marketing')\n"
     ]
    }
   ],
   "source": [
    "# Exploring additional features of named tuples\n",
    "print(\"Fields in Employee:\", Employee._fields)\n",
    "\n",
    "# Converting to a dictionary\n",
    "emp_dict = emp._asdict()\n",
    "print(\"Employee as dictionary:\", emp_dict)\n",
    "\n",
    "# Creating a new instance using _replace\n",
    "new_emp = emp._replace(name=\"Carol\")\n",
    "print(\"Updated employee:\", new_emp)"
   ]
  },
  {
   "cell_type": "code",
   "execution_count": null,
   "id": "a4e6a24c",
   "metadata": {
    "slideshow": {
     "slide_type": "subslide"
    }
   },
   "outputs": [],
   "source": [
    "# fun fact - the parenthesis are optional, just fo readability\n",
    "my_tuple = 1, 2, 3\n",
    "print(my_tuple)\n",
    "print(type(my_tuple))"
   ]
  },
  {
   "cell_type": "markdown",
   "id": "14c1b8b6",
   "metadata": {
    "slideshow": {
     "slide_type": "slide"
    }
   },
   "source": [
    "## When to Use Tuples\n",
    "- Best for read-only, immutable data collections.\n",
    "- Useful for representing fixed data structures (like coordinates, RGB colors).\n",
    "- Prefer tuples over lists for memory efficiency and integrity."
   ]
  },
  {
   "cell_type": "markdown",
   "id": "7318dcdc",
   "metadata": {
    "slideshow": {
     "slide_type": "slide"
    }
   },
   "source": [
    "# Understanding the Range Type in Python\n",
    "- `range` is a versatile, immutable sequence type.\n",
    "- Commonly used for looping a specific number of times in for loops.\n",
    "- Efficient in memory usage as it stores only start, stop, and step values."
   ]
  },
  {
   "cell_type": "markdown",
   "id": "58a66bf4",
   "metadata": {
    "slideshow": {
     "slide_type": "subslide"
    }
   },
   "source": [
    "## Creating and Using Ranges\n",
    "- Ranges can be created with different numbers of arguments.\n",
    "- `range(stop)`, `range(start, stop)`, and `range(start, stop, step)`.\n",
    "- Let's explore how these are instantiated and used.\n"
   ]
  },
  {
   "cell_type": "code",
   "execution_count": 13,
   "id": "285f0d8b",
   "metadata": {
    "slideshow": {
     "slide_type": "subslide"
    }
   },
   "outputs": [
    {
     "name": "stdout",
     "output_type": "stream",
     "text": [
      "0 1 2 3 4 "
     ]
    }
   ],
   "source": [
    "# Different ways to create ranges\n",
    "simple_range = range(5)  # 0 to 4\n",
    "start_stop_range = range(10, 15)  # 10 to 14\n",
    "stepped_range = range(0, 10, 2)  # 0, 2, 4, 6, 8\n",
    "\n",
    "# Iterating over a range\n",
    "for num in simple_range:\n",
    "    print(num, end=' ')  # Prints numbers from 0 to 4"
   ]
  },
  {
   "cell_type": "markdown",
   "id": "ca64ebab",
   "metadata": {
    "slideshow": {
     "slide_type": "slide"
    }
   },
   "source": [
    "# Sequences in Python\n",
    "- Python has several built-in sequence types: Lists, Tuples, Range, and Strings.\n",
    "- They all support common operations like indexing, slicing, and iteration.\n",
    "- Sequence types can be mutable (like lists) or immutable (like tuples and strings).\n",
    "- You can also define your own! More on this later in the course"
   ]
  },
  {
   "cell_type": "markdown",
   "id": "e858174b",
   "metadata": {
    "slideshow": {
     "slide_type": "subslide"
    }
   },
   "source": [
    "## Common Operations Across Sequence Types\n",
    "- Indexing, slicing, concatenation, repetition, membership testing.\n",
    "- Sequences also support methods like `min()`, `max()`, `len()`."
   ]
  },
  {
   "cell_type": "code",
   "execution_count": 16,
   "id": "a327b701",
   "metadata": {
    "slideshow": {
     "slide_type": "subslide"
    }
   },
   "outputs": [
    {
     "name": "stdout",
     "output_type": "stream",
     "text": [
      "First element: 1\n",
      "Slice: (2, 3, 4)\n",
      "Concatenated: (1, 2, 3, 4, 5, 6, 7)\n",
      "Repeated: (1, 2, 3, 4, 5, 1, 2, 3, 4, 5)\n",
      "Is 3 in sequence? True\n",
      "(1, 2, 3, 4, 5)\n"
     ]
    }
   ],
   "source": [
    "# Demonstrating common sequence operations\n",
    "sequence = (1, 2, 3, 4, 5)\n",
    "# sequence = (1, 2, 3, 4, 5)\n",
    "\n",
    "# Indexing and slicing\n",
    "print(\"First element:\", sequence[0])\n",
    "print(\"Slice:\", sequence[1:4])\n",
    "\n",
    "# Concatenation and repetition (for mutable sequences like lists)\n",
    "print(\"Concatenated:\", sequence + (6, 7))\n",
    "# print(\"Concatenated:\", sequence + (6, 7))\n",
    "print(\"Repeated:\", sequence * 2)\n",
    "\n",
    "# Membership testing\n",
    "print(\"Is 3 in sequence?\", 3 in sequence)\n",
    "print(sequence)"
   ]
  },
  {
   "cell_type": "markdown",
   "id": "1f2a28a7",
   "metadata": {
    "slideshow": {
     "slide_type": "subslide"
    }
   },
   "source": [
    "## Looping Techniques with Sequences\n",
    "- Sequences are iterable.\n",
    "- `enumerate()` for index and element.\n",
    "- `zip()` for parallel iteration.\n",
    "- Let's see these in action."
   ]
  },
  {
   "cell_type": "code",
   "execution_count": 18,
   "id": "e30a831c",
   "metadata": {
    "slideshow": {
     "slide_type": "slide"
    }
   },
   "outputs": [
    {
     "name": "stdout",
     "output_type": "stream",
     "text": [
      "Index: 0, Element: a\n",
      "Index: 1, Element: b\n",
      "Index: 2, Element: c\n",
      "<class 'zip'>\n",
      "Name: Alice, Age: 24\n",
      "Name: Bob, Age: 50\n",
      "Name: Charlie, Age: 18\n"
     ]
    }
   ],
   "source": [
    "# Looping through sequences\n",
    "sequence = ['a', 'b', 'c']\n",
    "\n",
    "# Using enumerate\n",
    "for index, element in enumerate(sequence):\n",
    "    print(f\"Index: {index}, Element: {element}\")\n",
    "\n",
    "# Using zip\n",
    "names = ['Alice', 'Bob', 'Charlie']\n",
    "ages = [24, 50, 18]\n",
    "for name, age in zip(names, ages):\n",
    "    print(f\"Name: {name}, Age: {age}\")"
   ]
  },
  {
   "cell_type": "markdown",
   "id": "a768f1fc",
   "metadata": {
    "slideshow": {
     "slide_type": "slide"
    }
   },
   "source": [
    "# Understanding Python Sets\n",
    "- Sets are collections of unique elements with no specific order.\n",
    "- Commonly used for membership testing, removing duplicates, and set operations.\n",
    "- Internally implemented as hash tables."
   ]
  },
  {
   "cell_type": "markdown",
   "id": "1a4af853",
   "metadata": {
    "slideshow": {
     "slide_type": "subslide"
    }
   },
   "source": [
    "## Basic Operations in Sets\n",
    "- Sets support operations like addition and removal of elements.\n",
    "- Also allow set-specific operations like union, intersection, and difference."
   ]
  },
  {
   "cell_type": "code",
   "execution_count": 19,
   "id": "8caf4308",
   "metadata": {
    "slideshow": {
     "slide_type": "subslide"
    }
   },
   "outputs": [
    {
     "name": "stdout",
     "output_type": "stream",
     "text": [
      "Union: {2, 3, 4, 5}\n",
      "Intersection: {3, 4}\n"
     ]
    }
   ],
   "source": [
    "# Demonstrating basic set operations\n",
    "my_set = {1, 2, 3}\n",
    "my_set.add(4)  # Adding an element\n",
    "my_set.remove(1)  # Removing an element\n",
    "\n",
    "# Set operations\n",
    "another_set = {3, 4, 5}\n",
    "union_set = my_set | another_set\n",
    "intersection_set = my_set & another_set\n",
    "\n",
    "print(\"Union:\", union_set)\n",
    "print(\"Intersection:\", intersection_set)"
   ]
  },
  {
   "cell_type": "markdown",
   "id": "c8de6cc6",
   "metadata": {
    "slideshow": {
     "slide_type": "slide"
    }
   },
   "source": [
    "# Understanding Python Dictionaries\n",
    "- Dictionaries are collections of key-value pairs.\n",
    "- As of Python 3.7, they maintain insertion order.\n",
    "- Internally implemented using hash tables, similar to sets."
   ]
  },
  {
   "cell_type": "markdown",
   "id": "ad402595",
   "metadata": {
    "slideshow": {
     "slide_type": "subslide"
    }
   },
   "source": [
    "## Basic Usage of Dictionaries\n",
    "- Dictionaries allow for fast data retrieval using keys.\n",
    "- Keys must be hashable, which makes them unique within the dictionary."
   ]
  },
  {
   "cell_type": "code",
   "execution_count": 22,
   "id": "16bd92ee",
   "metadata": {
    "slideshow": {
     "slide_type": "subslide"
    }
   },
   "outputs": [
    {
     "name": "stdout",
     "output_type": "stream",
     "text": [
      "Name: Alice\n",
      "City: New York\n",
      "Country: 2\n",
      "Dictionary after deletion: {'name': 'Alice', 'city': 'New York'}\n",
      "Age: Not found\n"
     ]
    }
   ],
   "source": [
    "# Demonstrating dictionary usage\n",
    "my_dict = {'name': 'Alice', 'age': 30}\n",
    "my_dict['city'] = 'New York'  # Adding a new key-value pair\n",
    "\n",
    "# Accessing elements\n",
    "print(\"Name:\", my_dict['name'])\n",
    "print(\"City:\", my_dict.get('city', 'Not found'))\n",
    "\n",
    "# Demonstration of get() with a non-existent key\n",
    "print(\"Country:\", my_dict.get('country', 2))\n",
    "\n",
    "# Deleting an element\n",
    "del my_dict['age']\n",
    "print(\"Dictionary after deletion:\", my_dict)\n",
    "\n",
    "# Attempt to access a deleted key\n",
    "print(\"Age:\", my_dict.get('age', 'Not found'))"
   ]
  },
  {
   "cell_type": "markdown",
   "id": "9c740106",
   "metadata": {
    "slideshow": {
     "slide_type": "subslide"
    }
   },
   "source": [
    "## How Dictionaries Work Internally\n",
    "- Python dictionaries use a hash table for storing key-value pairs.\n",
    "- Collision resolution is handled using open addressing.\n",
    "- The dynamic resizing mechanism helps maintain efficient operations."
   ]
  },
  {
   "cell_type": "markdown",
   "id": "b3adfed4",
   "metadata": {
    "slideshow": {
     "slide_type": "slide"
    }
   },
   "source": [
    "# Introduction to defaultdict in Python\n",
    "- `defaultdict` is a subclass of the built-in `dict` class, available in the `collections` module.\n",
    "- It functions almost exactly like a regular dictionary, but it has one key difference: it provides a default value for missing keys.\n",
    "\n",
    "## Key Features of defaultdict\n",
    "- Eliminates the need to check for a key before accessing or updating.\n",
    "- The default value is specified at the time of defaultdict creation.\n",
    "- Particularly useful when the values in the dictionary are collections like lists, sets, or other dictionaries."
   ]
  },
  {
   "cell_type": "code",
   "execution_count": 23,
   "id": "451a4069",
   "metadata": {
    "slideshow": {
     "slide_type": "subslide"
    }
   },
   "outputs": [
    {
     "name": "stdout",
     "output_type": "stream",
     "text": [
      "defaultdict(<class 'list'>, {'fruits': ['apple', 'banana'], 'vegetables': ['carrot']})\n",
      "[]\n"
     ]
    }
   ],
   "source": [
    "from collections import defaultdict\n",
    "\n",
    "# Creating a defaultdict with list as the default value type\n",
    "list_default_dict = defaultdict(list)\n",
    "\n",
    "# Adding items to the defaultdict\n",
    "list_default_dict['fruits'].append('apple')\n",
    "list_default_dict['fruits'].append('banana')\n",
    "list_default_dict['vegetables'].append('carrot')\n",
    "\n",
    "print(list_default_dict)\n",
    "print(list_default_dict['some_random_key'])"
   ]
  },
  {
   "cell_type": "code",
   "execution_count": 24,
   "id": "08de975c",
   "metadata": {
    "slideshow": {
     "slide_type": "subslide"
    }
   },
   "outputs": [
    {
     "name": "stdout",
     "output_type": "stream",
     "text": [
      "defaultdict(<class 'int'>, {'one': 1, 'two': 2, 'three': 3})\n",
      "0\n"
     ]
    }
   ],
   "source": [
    "# Creating a defaultdict with number as the default value type\n",
    "number_default_dict = defaultdict(int)\n",
    "\n",
    "# Adding items to the defaultdict\n",
    "number_default_dict['one'] += 1\n",
    "number_default_dict['two'] += 2\n",
    "number_default_dict['three'] += 3\n",
    "\n",
    "print(number_default_dict)\n",
    "print(number_default_dict['some_random_key'])"
   ]
  },
  {
   "cell_type": "markdown",
   "id": "b87bf8a3",
   "metadata": {
    "slideshow": {
     "slide_type": "slide"
    }
   },
   "source": [
    "# Introduction to Python Strings\n",
    "- Strings are Python’s built-in text sequence type.\n",
    "- Stored as Unicode, making them versatile for international text.\n",
    "- Immutable: Once created, their content cannot be changed.\n",
    "- Lexicographical comparisons are supported."
   ]
  },
  {
   "cell_type": "markdown",
   "id": "ed0ac890",
   "metadata": {
    "slideshow": {
     "slide_type": "subslide"
    }
   },
   "source": [
    "## String Constructors\n",
    "- Strings can be created using single, double, or triple quotes.\n",
    "- Triple quotes allow multi-line strings, preserving whitespace.\n",
    "- `str(obj)` uses an object’s `__str__()` method for conversion.\n",
    "- Empty strings can be created with `''`, `\"\"`, or `str()`."
   ]
  },
  {
   "cell_type": "code",
   "execution_count": 27,
   "id": "a184586c",
   "metadata": {
    "slideshow": {
     "slide_type": "subslide"
    }
   },
   "outputs": [
    {
     "name": "stdout",
     "output_type": "stream",
     "text": [
      "Single quotes\n",
      "Double quotes\n",
      "Triple\n",
      "quoted\n",
      "string\n",
      "String from list: [1, 2, 3]\n",
      "123\n"
     ]
    },
    {
     "data": {
      "text/plain": [
       "NoneType"
      ]
     },
     "execution_count": 27,
     "metadata": {},
     "output_type": "execute_result"
    }
   ],
   "source": [
    "# Demonstrating string constructors\n",
    "single_quoted = 'Single quotes'\n",
    "double_quoted = \"Double quotes\"\n",
    "triple_quoted = '''Triple\n",
    "quoted\n",
    "string'''\n",
    "\n",
    "# Empty strings\n",
    "empty_string = \"\"\n",
    "\n",
    "# Using str() for conversion\n",
    "string_from_list = str([1, 2, 3])\n",
    "\n",
    "# Output\n",
    "print(single_quoted)\n",
    "print(double_quoted)\n",
    "print(triple_quoted)\n",
    "print(\"String from list:\", string_from_list)"
   ]
  },
  {
   "cell_type": "markdown",
   "id": "fec69e9c",
   "metadata": {
    "slideshow": {
     "slide_type": "subslide"
    }
   },
   "source": [
    "## String Concatenation and Repetition\n",
    "- Concatenation: Combine strings using `+` operator.\n",
    "- Repetition: Repeat strings using `*` operator.\n",
    "- Joining: Use `join()` method for concatenating iterable elements."
   ]
  },
  {
   "cell_type": "code",
   "execution_count": 29,
   "id": "9af3bcb5",
   "metadata": {
    "slideshow": {
     "slide_type": "subslide"
    }
   },
   "outputs": [
    {
     "name": "stdout",
     "output_type": "stream",
     "text": [
      "Concatenated: Hello World\n",
      "Repeated: HelloHelloHello\n",
      "Joined: JoinJASHtheseJASHstrings\n"
     ]
    }
   ],
   "source": [
    "# String concatenation and repetition\n",
    "hello = \"Hello\"\n",
    "world = \" World\"\n",
    "\n",
    "concatenated = hello + world\n",
    "repeated = hello * 3\n",
    "\n",
    "# Joining strings\n",
    "joined = 'JASH'.join(['Join', 'these', 'strings'])\n",
    "\n",
    "# Output\n",
    "print(\"Concatenated:\", concatenated)\n",
    "print(\"Repeated:\", repeated)\n",
    "print(\"Joined:\", joined)"
   ]
  },
  {
   "cell_type": "code",
   "execution_count": 31,
   "id": "e9ffbfbb",
   "metadata": {
    "slideshow": {
     "slide_type": "subslide"
    }
   },
   "outputs": [
    {
     "name": "stdout",
     "output_type": "stream",
     "text": [
      "4733027568\n",
      "4732931760\n"
     ]
    }
   ],
   "source": [
    "# Strings are immutable\n",
    "my_string = \"Hello\"\n",
    "# my_string[0] = 'J'  # This will throw an error\n",
    "\n",
    "# Another reason\n",
    "my_string = \"Hello\"\n",
    "print(id(my_string))\n",
    "\n",
    "my_string += \" World\"\n",
    "print(id(my_string))"
   ]
  },
  {
   "cell_type": "markdown",
   "id": "caa45f90",
   "metadata": {
    "slideshow": {
     "slide_type": "subslide"
    }
   },
   "source": [
    "## String Indexing and Slicing\n",
    "- Strings support sequence indexing and slicing operations.\n",
    "- Indexing: Access individual characters.\n",
    "- Slicing: Extract substrings."
   ]
  },
  {
   "cell_type": "code",
   "execution_count": 32,
   "id": "4f7888a3",
   "metadata": {
    "slideshow": {
     "slide_type": "subslide"
    }
   },
   "outputs": [
    {
     "name": "stdout",
     "output_type": "stream",
     "text": [
      "First character: P\n",
      "Last character: n\n",
      "Substring 'yth': yth\n"
     ]
    }
   ],
   "source": [
    "# String indexing and slicing\n",
    "string = \"Python\"\n",
    "\n",
    "# Indexing\n",
    "first_char = string[0]\n",
    "last_char = string[-1]\n",
    "\n",
    "# Slicing\n",
    "substring = string[1:4]\n",
    "\n",
    "# Output\n",
    "print(\"First character:\", first_char)\n",
    "print(\"Last character:\", last_char)\n",
    "print(\"Substring 'yth':\", substring)"
   ]
  },
  {
   "cell_type": "markdown",
   "id": "b1089f3a",
   "metadata": {
    "slideshow": {
     "slide_type": "subslide"
    }
   },
   "source": [
    "## String Matching and Searching\n",
    "- Various methods to find and count substrings.\n",
    "- `find()`, `index()`, `count()`, `startswith()`, `endswith()`."
   ]
  },
  {
   "cell_type": "code",
   "execution_count": 33,
   "id": "5e28cde9",
   "metadata": {
    "slideshow": {
     "slide_type": "subslide"
    }
   },
   "outputs": [
    {
     "name": "stdout",
     "output_type": "stream",
     "text": [
      "Position of 'world': 6\n",
      "Count of 'o': 6\n",
      "Starts with 'Hello': True\n",
      "Ends with 'g.': True\n"
     ]
    }
   ],
   "source": [
    "# String matching and searching\n",
    "phrase = \"Hello world, welcome to Python programming.\"\n",
    "\n",
    "# Searching for a substring\n",
    "position = phrase.find(\"world\")\n",
    "\n",
    "# Counting occurrences\n",
    "count = phrase.count(\"o\")\n",
    "\n",
    "# Checking start and end\n",
    "starts = phrase.startswith(\"Hello\")\n",
    "ends = phrase.endswith(\"g.\")\n",
    "\n",
    "# Output\n",
    "print(\"Position of 'world':\", position)\n",
    "print(\"Count of 'o':\", count)\n",
    "print(\"Starts with 'Hello':\", starts)\n",
    "print(\"Ends with 'g.':\", ends)"
   ]
  },
  {
   "cell_type": "markdown",
   "id": "b6011de2",
   "metadata": {
    "slideshow": {
     "slide_type": "subslide"
    }
   },
   "source": [
    "## String Formatting\n",
    "- The `format()` method offers flexible string formatting.\n",
    "- Supports positional and keyword arguments.\n",
    "- Format specifications control layout and formatting."
   ]
  },
  {
   "cell_type": "code",
   "execution_count": 34,
   "id": "54656a7c",
   "metadata": {
    "slideshow": {
     "slide_type": "subslide"
    }
   },
   "outputs": [
    {
     "name": "stdout",
     "output_type": "stream",
     "text": [
      "Coordinates: (10.5, 20.3)\n",
      "Formatted: 123.46\n"
     ]
    }
   ],
   "source": [
    "# String formatting with format()\n",
    "formatted_string = \"Coordinates: ({x}, {y})\".format(x=10.5, y=20.3)\n",
    "\n",
    "# Advanced formatting\n",
    "number = 123.4567\n",
    "formatted_number = \"Formatted: {num:0.2f}\".format(num=number)\n",
    "\n",
    "# Output\n",
    "print(formatted_string)\n",
    "print(formatted_number)"
   ]
  },
  {
   "cell_type": "markdown",
   "id": "b5cf61c4",
   "metadata": {
    "slideshow": {
     "slide_type": "subslide"
    }
   },
   "source": [
    "## Advanced String Formatting Specification\n",
    "- Formatting specification allows detailed control over string presentation.\n",
    "- Includes alignment, padding, precision, and more."
   ]
  },
  {
   "cell_type": "code",
   "execution_count": 35,
   "id": "9c8256c2",
   "metadata": {
    "slideshow": {
     "slide_type": "subslide"
    }
   },
   "outputs": [
    {
     "name": "stdout",
     "output_type": "stream",
     "text": [
      "123,456.79\n",
      "0000000123\n",
      "456xxxxx\n"
     ]
    }
   ],
   "source": [
    "# Advanced string formatting specification\n",
    "number = 123456.789\n",
    "\n",
    "# Different format specifications\n",
    "# Comma as thousands separator, two decimal places\n",
    "formatted_1 = \"{:0,.2f}\".format(number) \n",
    "\n",
    "# Pad number with zeros, total width 10\n",
    "formatted_2 = \"{:0>10}\".format(123)    \n",
    "\n",
    "# Pad number with 'x', total width\n",
    "formatted_3 = \"{:x<8}\".format(456)       \n",
    "\n",
    "print(formatted_1)\n",
    "print(formatted_2)\n",
    "print(formatted_3)"
   ]
  },
  {
   "cell_type": "markdown",
   "id": "ae0185b9",
   "metadata": {
    "slideshow": {
     "slide_type": "subslide"
    }
   },
   "source": [
    "# (Aside) Why Are Python Slices Left-Inclusive and Right-Exclusive?\n",
    "- Python's slicing syntax `a[start:stop]` includes the element at `start` but excludes `stop`.\n",
    "- This design offers several advantages:\n",
    "\n",
    "## Advantages of Left-Inclusive, Right-Exclusive Slicing\n",
    "- **Zero-based Indexing**: `a[0:n]` yields the first `n` elements.\n",
    "- **Natural to Python**: Aligns with the zero-based indexing nature of Python.\n",
    "- **Non-overlapping Slices**: Sequential slices do not overlap, e.g., `a[:n]` and `a[n:]`.\n",
    "- **Simplicity in Calculating Length**: The length of `a[start:stop]` is simply `stop - start`.\n",
    "- **Ease of Splitting Sequences**: Helps in dividing sequences evenly and intuitively."
   ]
  },
  {
   "cell_type": "code",
   "execution_count": null,
   "id": "3c778325",
   "metadata": {
    "slideshow": {
     "slide_type": "subslide"
    }
   },
   "outputs": [],
   "source": [
    "# what would this print? \n",
    "large_list = [i for i in range(1, 1_000_000_000)]\n",
    "\n",
    "# Calculating the sum of elements in the list\n",
    "sum_large_list = sum(large_list)"
   ]
  },
  {
   "cell_type": "markdown",
   "id": "4487e215",
   "metadata": {
    "slideshow": {
     "slide_type": "slide"
    }
   },
   "source": [
    "# The Problem with Very Large Lists\n",
    "- Creating extremely large lists can lead to memory issues.\n",
    "- For example, storing a sequence of numbers from 1 to a billion is impractical.\n",
    "- Let's see what happens when we try to create such a large list."
   ]
  },
  {
   "cell_type": "markdown",
   "id": "3cb98ca8",
   "metadata": {
    "slideshow": {
     "slide_type": "subslide"
    }
   },
   "source": [
    "# What Are Generators?\n",
    "- Generators are a type of iterable, like lists or tuples.\n",
    "- Unlike lists, they do not store their content in memory.\n",
    "- They generate items one at a time and only when required.\n",
    "- Defined using functions and the `yield` statement."
   ]
  },
  {
   "cell_type": "markdown",
   "id": "581225c5",
   "metadata": {
    "slideshow": {
     "slide_type": "subslide"
    }
   },
   "source": [
    "## Motivating Generators\n",
    "- Generators provide an efficient way to handle large datasets.\n",
    "- They generate items on the fly, consuming less memory.\n",
    "- Useful when you only need to read each item once.\n",
    "- Example use cases:\n",
    "  - Processing log files.\n",
    "  - Streaming large datasets."
   ]
  },
  {
   "cell_type": "markdown",
   "id": "289e6078",
   "metadata": {
    "slideshow": {
     "slide_type": "subslide"
    }
   },
   "source": [
    "## How Generators Work\n",
    "- Generators maintain their state between executions.\n",
    "- `yield` pauses the function, saving its state for next time.\n",
    "- When `next()` is called on a generator, it resumes from where it left off.\n",
    "- After yielding all values, it raises a `StopIteration` exception."
   ]
  },
  {
   "cell_type": "code",
   "execution_count": 43,
   "id": "982a89b2",
   "metadata": {
    "slideshow": {
     "slide_type": "subslide"
    }
   },
   "outputs": [
    {
     "name": "stdout",
     "output_type": "stream",
     "text": [
      "Hello\n",
      "World\n",
      "0\n",
      "2\n"
     ]
    }
   ],
   "source": [
    "# Defining a simple generator function\n",
    "def simple_generator():\n",
    "    yield \"Hello\"\n",
    "    yield \"World\"\n",
    "\n",
    "# Using the generator with next()\n",
    "gen = simple_generator()\n",
    "print(next(gen))  # Outputs: Hello\n",
    "print(next(gen))  # Outputs: World\n",
    "\n",
    "# Generator expression example\n",
    "gen_exp = (x * 2 for x in range(3))\n",
    "print(next(gen_exp))  # Outputs: 0\n",
    "print(next(gen_exp))  # Outputs: 2"
   ]
  },
  {
   "cell_type": "markdown",
   "id": "e17b28ea",
   "metadata": {
    "slideshow": {
     "slide_type": "subslide"
    }
   },
   "source": [
    "## Now, how could we do the earlier problem?"
   ]
  },
  {
   "cell_type": "code",
   "execution_count": 46,
   "id": "66c0882a",
   "metadata": {
    "slideshow": {
     "slide_type": "subslide"
    }
   },
   "outputs": [
    {
     "name": "stdout",
     "output_type": "stream",
     "text": [
      "Sum using generator: 10\n"
     ]
    }
   ],
   "source": [
    "# Creating a generator\n",
    "large_generator = (i for i in range(1, 5))\n",
    "\n",
    "# Calculating the sum of elements generated\n",
    "sum_gen = 0\n",
    "for i in large_generator:\n",
    "    sum_gen += i\n",
    "    \n",
    "print(\"Sum using generator:\", sum_gen)"
   ]
  },
  {
   "cell_type": "markdown",
   "id": "31b776b6",
   "metadata": {
    "slideshow": {
     "slide_type": "slide"
    }
   },
   "source": [
    "# Python Functions: Overview\n",
    "- Functions are building blocks in Python, enabling code reuse and modularity.\n",
    "- Python's approach to functions is versatile, supporting features like multiple return values and default parameters.\n",
    "- Understanding functions in Python also involves recognizing the nuances that distinguish them from languages like Java and OCaml."
   ]
  },
  {
   "cell_type": "markdown",
   "id": "bf9e4e68",
   "metadata": {
    "slideshow": {
     "slide_type": "subslide"
    }
   },
   "source": [
    "## Defining and Calling Functions\n",
    "- Functions are defined using the `def` keyword followed by a name, parameters, and a block of code.\n",
    "- They can be called with arguments matching the defined parameters.\n",
    "- Python allows both positional and keyword arguments in function calls."
   ]
  },
  {
   "cell_type": "code",
   "execution_count": 47,
   "id": "b424d388",
   "metadata": {
    "slideshow": {
     "slide_type": "subslide"
    }
   },
   "outputs": [
    {
     "name": "stdout",
     "output_type": "stream",
     "text": [
      "Hello, Alice!\n",
      "Hello, Bob!\n"
     ]
    }
   ],
   "source": [
    "# Example of defining and calling a function\n",
    "def greet(name):\n",
    "    return f\"Hello, {name}!\"\n",
    "\n",
    "# Function call\n",
    "print(greet(\"Alice\"))  # Positional argument\n",
    "print(greet(name=\"Bob\"))  # Keyword argument"
   ]
  },
  {
   "cell_type": "code",
   "execution_count": 49,
   "id": "541edd15",
   "metadata": {
    "slideshow": {
     "slide_type": "subslide"
    }
   },
   "outputs": [
    {
     "name": "stdout",
     "output_type": "stream",
     "text": [
      "Alice, Welcome!\n"
     ]
    }
   ],
   "source": [
    "# can have as many positional arguments as you want\n",
    "def greet(name, message):\n",
    "    return f\"{message}, {name}!\"\n",
    "\n",
    "# Function call\n",
    "print(greet(message=\"Alice\", name=\"Welcome\"))  # Positional arguments"
   ]
  },
  {
   "cell_type": "code",
   "execution_count": 51,
   "id": "14f97b45",
   "metadata": {
    "slideshow": {
     "slide_type": "subslide"
    }
   },
   "outputs": [
    {
     "name": "stdout",
     "output_type": "stream",
     "text": [
      "Hello, Alice!\n"
     ]
    }
   ],
   "source": [
    "# Because there is no type, unlike Java, you cannot overload\n",
    "def greet(name):\n",
    "    return f\"Hello, {name}!\"\n",
    "\n",
    "# def greet(name, message):\n",
    "#     return f\"{message}, {name}!\"\n",
    "\n",
    "# Function call\n",
    "print(greet(\"Alice\")) "
   ]
  },
  {
   "cell_type": "code",
   "execution_count": 52,
   "id": "cbe7a8b9",
   "metadata": {
    "slideshow": {
     "slide_type": "subslide"
    }
   },
   "outputs": [
    {
     "name": "stdout",
     "output_type": "stream",
     "text": [
      "Width: 5, Height: 10\n"
     ]
    }
   ],
   "source": [
    "# Function that returns multiple values\n",
    "def get_dimensions():\n",
    "    width = 5\n",
    "    height = 10\n",
    "    return width, height\n",
    "\n",
    "# Unpacking returned values\n",
    "width, height = get_dimensions()\n",
    "print(f\"Width: {width}, Height: {height}\")"
   ]
  },
  {
   "cell_type": "code",
   "execution_count": 53,
   "id": "e716800c",
   "metadata": {
    "slideshow": {
     "slide_type": "subslide"
    }
   },
   "outputs": [
    {
     "name": "stdout",
     "output_type": "stream",
     "text": [
      "<class 'tuple'>\n"
     ]
    }
   ],
   "source": [
    "# how does it return the values?\n",
    "def get_dimensions():\n",
    "    width = 5\n",
    "    height = 10\n",
    "    return width, height\n",
    "\n",
    "# what do you think this will output?\n",
    "print(type(get_dimensions()))"
   ]
  },
  {
   "cell_type": "markdown",
   "id": "6dc56ea2",
   "metadata": {
    "slideshow": {
     "slide_type": "slide"
    }
   },
   "source": [
    "## Default Parameters and Mutable Defaults\n",
    "- Default parameters provide default values for function arguments.\n",
    "- Be cautious with mutable default parameters like lists and dictionaries."
   ]
  },
  {
   "cell_type": "code",
   "execution_count": 58,
   "id": "b1fd22e6",
   "metadata": {
    "slideshow": {
     "slide_type": "subslide"
    }
   },
   "outputs": [
    {
     "name": "stdout",
     "output_type": "stream",
     "text": [
      "User 1: {'name': 'Alice', 'role': 'User', 'active': True}\n",
      "User 2: {'name': 'Bob', 'role': 'Admin', 'active': True}\n",
      "User 3: {'name': 'Charlie', 'role': 'Moderator', 'active': False}\n"
     ]
    }
   ],
   "source": [
    "# Defining a function with default values\n",
    "def create_user(name, role='User', active=True):\n",
    "    return {'name': name, 'role': role, 'active': active}\n",
    "\n",
    "# Example 1: Using default values\n",
    "user1 = create_user('Alice')\n",
    "print(\"User 1:\", user1)\n",
    "\n",
    "# Example 2: Overriding the default 'role'\n",
    "user2 = create_user('Bob', role='Admin')\n",
    "print(\"User 2:\", user2)\n",
    "\n",
    "# Example 3: Overriding all default values\n",
    "user3 = create_user('Charlie', 'Moderator', False)\n",
    "print(\"User 3:\", user3)"
   ]
  },
  {
   "cell_type": "code",
   "execution_count": 59,
   "id": "4e953bfa",
   "metadata": {
    "slideshow": {
     "slide_type": "subslide"
    }
   },
   "outputs": [
    {
     "name": "stdout",
     "output_type": "stream",
     "text": [
      "Permissions for Alice: {'read_only': False, 'write_only': False}\n",
      "Permissions for Bob: {'read_only': True, 'write_only': False}\n",
      "Permissions for Charlie: {'read_only': False, 'write_only': True}\n"
     ]
    }
   ],
   "source": [
    "# Demonstrating why default parameters must be at the end\n",
    "def set_permissions(user, read_only=False, write_only=False):\n",
    "    permissions = {\n",
    "        'read_only': read_only,\n",
    "        'write_only': write_only\n",
    "    }\n",
    "    return f\"Permissions for {user}: {permissions}\"\n",
    "\n",
    "# Setting permissions with different combinations \n",
    "# of default and non-default parameters\n",
    "perm1 = set_permissions('Alice')\n",
    "perm2 = set_permissions('Bob', True)\n",
    "perm3 = set_permissions('Charlie', write_only=True)\n",
    "\n",
    "print(perm1)\n",
    "print(perm2)\n",
    "print(perm3)"
   ]
  },
  {
   "cell_type": "code",
   "execution_count": null,
   "id": "33a7f87b",
   "metadata": {
    "slideshow": {
     "slide_type": "subslide"
    }
   },
   "outputs": [],
   "source": [
    "# you can also specify which positional argument you are passing\n",
    "def greet(greeting, name):\n",
    "    return f\"{greeting}, {name}!\"\n",
    "\n",
    "# Function call\n",
    "print(greet(\"Hello\", \"Alice\"))  # Positional arguments\n",
    "print(greet(name=\"Bob\", greeting=\"Hi\"))  # Keyword arguments\n",
    "print(greet(\"Hello\", name=\"Charlie\"))  # Mixed arguments\n",
    "print(greet(greeting=\"Hi\", name=\"Bob\"))  # Mixed arguments\n",
    "\n",
    "# (I recommend doing this all the time to be more clear in code)"
   ]
  },
  {
   "cell_type": "code",
   "execution_count": 60,
   "id": "cb5c9061",
   "metadata": {
    "slideshow": {
     "slide_type": "subslide"
    }
   },
   "outputs": [
    {
     "name": "stdout",
     "output_type": "stream",
     "text": [
      "['Apple']\n",
      "['Apple', 'Banana']\n"
     ]
    }
   ],
   "source": [
    "# Function with a mutable default parameter\n",
    "def append_item(item, item_list=[]):\n",
    "    item_list.append(item)\n",
    "    return item_list\n",
    "\n",
    "# What should get printed? \n",
    "print(append_item(\"Apple\")) \n",
    "print(append_item(\"Banana\")) "
   ]
  },
  {
   "cell_type": "code",
   "execution_count": 62,
   "id": "e88da729",
   "metadata": {
    "slideshow": {
     "slide_type": "subslide"
    }
   },
   "outputs": [
    {
     "name": "stdout",
     "output_type": "stream",
     "text": [
      "2024-01-30 18:46:10.235596: Event 1\n",
      "2024-01-30 18:46:10.235596: Event 1\n"
     ]
    }
   ],
   "source": [
    "from datetime import datetime\n",
    "import time\n",
    "\n",
    "# Function with the current time as a default parameter\n",
    "def log_event(event, timestamp=datetime.now()):\n",
    "    print(f\"{timestamp}: {event}\")\n",
    "\n",
    "log_event(\"Event 1\")\n",
    "\n",
    "time.sleep(3)\n",
    "\n",
    "log_event(\"Event 1\")"
   ]
  },
  {
   "cell_type": "code",
   "execution_count": 63,
   "id": "e8fdc144",
   "metadata": {
    "slideshow": {
     "slide_type": "subslide"
    }
   },
   "outputs": [
    {
     "ename": "SyntaxError",
     "evalue": "invalid syntax (2573514863.py, line 5)",
     "output_type": "error",
     "traceback": [
      "\u001b[0;36m  Cell \u001b[0;32mIn[63], line 5\u001b[0;36m\u001b[0m\n\u001b[0;31m    if ... None:\u001b[0m\n\u001b[0m           ^\u001b[0m\n\u001b[0;31mSyntaxError\u001b[0m\u001b[0;31m:\u001b[0m invalid syntax\n"
     ]
    }
   ],
   "source": [
    "from datetime import datetime\n",
    "\n",
    "# What is the way to fix this? What is the Pythonic way of doing this...\n",
    "def log_event(event, timestamp=None):\n",
    "    if ... None:\n",
    "    print(f\"{timestamp}: {event}\")\n",
    "\n",
    "log_event(\"Event 1\")"
   ]
  },
  {
   "cell_type": "markdown",
   "id": "0128c7b1",
   "metadata": {
    "slideshow": {
     "slide_type": "slide"
    }
   },
   "source": [
    "## Best Practice: Immutable Default Parameters\n",
    "- Use immutable types such as `None` for default parameters.\n",
    "- Check for `None` inside the function and assign the mutable object as needed."
   ]
  },
  {
   "cell_type": "code",
   "execution_count": null,
   "id": "40507f08",
   "metadata": {
    "slideshow": {
     "slide_type": "subslide"
    }
   },
   "outputs": [],
   "source": [
    "# Function using None as a default parameter\n",
    "def append_item_safe(item, item_list=None):\n",
    "    if item_list is None:\n",
    "        item_list = []\n",
    "    item_list.append(item)\n",
    "    return item_list\n",
    "\n",
    "# Calling the function correctly\n",
    "print(append_item_safe(\"Apple\"))  # [\"Apple\"]\n",
    "print(append_item_safe(\"Banana\"))  # [\"Banana\"]"
   ]
  },
  {
   "cell_type": "code",
   "execution_count": null,
   "id": "9daf7388",
   "metadata": {
    "slideshow": {
     "slide_type": "subslide"
    }
   },
   "outputs": [],
   "source": [
    "# Example\n",
    "def go_shopping(item_one, item_two, shopping_list=[]):\n",
    "    shopping_list.append(item_one)\n",
    "    shopping_list.append(item_two)\n",
    "    return shopping_list\n",
    "\n",
    "print(go_shopping(\"apple\", \"banana\"))\n",
    "print(go_shopping(\"cherry\", \"soda\"))"
   ]
  }
 ],
 "metadata": {
  "celltoolbar": "Slideshow",
  "kernelspec": {
   "display_name": "Python 3 (ipykernel)",
   "language": "python",
   "name": "python3"
  },
  "language_info": {
   "codemirror_mode": {
    "name": "ipython",
    "version": 3
   },
   "file_extension": ".py",
   "mimetype": "text/x-python",
   "name": "python",
   "nbconvert_exporter": "python",
   "pygments_lexer": "ipython3",
   "version": "3.11.5"
  }
 },
 "nbformat": 4,
 "nbformat_minor": 5
}
