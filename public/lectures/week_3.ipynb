{
 "cells": [
  {
   "cell_type": "markdown",
   "id": "6dc56ea2",
   "metadata": {
    "slideshow": {
     "slide_type": "slide"
    }
   },
   "source": [
    "## Default Parameters and Mutable Defaults\n",
    "- Default parameters provide default values for function arguments.\n",
    "- Be cautious with mutable default parameters like lists and dictionaries."
   ]
  },
  {
   "cell_type": "code",
   "execution_count": null,
   "id": "b1fd22e6",
   "metadata": {
    "slideshow": {
     "slide_type": "subslide"
    }
   },
   "outputs": [],
   "source": [
    "# Defining a function with default values\n",
    "def create_user(name, role='User', active=True):\n",
    "    return {'name': name, 'role': role, 'active': active}\n",
    "\n",
    "# Example 1: Using default values\n",
    "user1 = create_user('Alice')\n",
    "print(\"User 1:\", user1)\n",
    "\n",
    "# Example 2: Overriding the default 'role'\n",
    "user2 = create_user('Bob', role='Admin')\n",
    "print(\"User 2:\", user2)\n",
    "\n",
    "# Example 3: Overriding all default values\n",
    "user3 = create_user('Charlie', 'Moderator', False)\n",
    "print(\"User 3:\", user3)"
   ]
  },
  {
   "cell_type": "code",
   "execution_count": null,
   "id": "4e953bfa",
   "metadata": {
    "slideshow": {
     "slide_type": "subslide"
    }
   },
   "outputs": [],
   "source": [
    "# Demonstrating why default parameters must be at the end\n",
    "def set_permissions(user, read_only=False, write_only=False):\n",
    "    permissions = {\n",
    "        'read_only': read_only,\n",
    "        'write_only': write_only\n",
    "    }\n",
    "    return f\"Permissions for {user}: {permissions}\"\n",
    "\n",
    "# Setting permissions with different combinations \n",
    "# of default and non-default parameters\n",
    "perm1 = set_permissions('Alice')\n",
    "perm2 = set_permissions('Bob', True)\n",
    "perm3 = set_permissions('Charlie', write_only=True)\n",
    "\n",
    "print(perm1)\n",
    "print(perm2)\n",
    "print(perm3)"
   ]
  },
  {
   "cell_type": "code",
   "execution_count": null,
   "id": "33a7f87b",
   "metadata": {
    "slideshow": {
     "slide_type": "subslide"
    }
   },
   "outputs": [],
   "source": [
    "# you can also specify which positional argument you are passing\n",
    "def greet(greeting, name):\n",
    "    return f\"{greeting}, {name}!\"\n",
    "\n",
    "# Function call\n",
    "print(greet(\"Hello\", \"Alice\"))  # Positional arguments\n",
    "print(greet(name=\"Bob\", greeting=\"Hi\"))  # Keyword arguments\n",
    "print(greet(\"Hello\", name=\"Charlie\"))  # Mixed arguments\n",
    "print(greet(greeting=\"Hi\", name=\"Bob\"))  # Mixed arguments\n",
    "\n",
    "# (I recommend doing this all the time to be more clear in code)"
   ]
  },
  {
   "cell_type": "code",
   "execution_count": null,
   "id": "cb5c9061",
   "metadata": {
    "slideshow": {
     "slide_type": "subslide"
    }
   },
   "outputs": [],
   "source": [
    "# Function with a mutable default parameter\n",
    "def append_item(item, item_list=[]):\n",
    "    item_list.append(item)\n",
    "    return item_list\n",
    "\n",
    "# What should get printed? \n",
    "print(append_item(\"Apple\")) \n",
    "print(append_item(\"Banana\")) "
   ]
  },
  {
   "cell_type": "code",
   "execution_count": null,
   "id": "e88da729",
   "metadata": {
    "slideshow": {
     "slide_type": "subslide"
    }
   },
   "outputs": [],
   "source": [
    "from datetime import datetime\n",
    "import time\n",
    "\n",
    "# Function with the current time as a default parameter\n",
    "def log_event(event, timestamp=datetime.now()):\n",
    "    print(f\"{timestamp}: {event}\")\n",
    "\n",
    "log_event(\"Event 1\")\n",
    "\n",
    "time.sleep(3)\n",
    "\n",
    "log_event(\"Event 1\")"
   ]
  },
  {
   "cell_type": "code",
   "execution_count": null,
   "id": "e8fdc144",
   "metadata": {
    "slideshow": {
     "slide_type": "subslide"
    }
   },
   "outputs": [],
   "source": [
    "from datetime import datetime\n",
    "\n",
    "# What is the way to fix this? What is the Pythonic way of doing this...\n",
    "def log_event(event, timestamp=None):\n",
    "    if ... None:\n",
    "    print(f\"{timestamp}: {event}\")\n",
    "\n",
    "log_event(\"Event 1\")"
   ]
  },
  {
   "cell_type": "markdown",
   "id": "0128c7b1",
   "metadata": {
    "slideshow": {
     "slide_type": "slide"
    }
   },
   "source": [
    "## Best Practice: Immutable Default Parameters\n",
    "- Use immutable types such as `None` for default parameters.\n",
    "- Check for `None` inside the function and assign the mutable object as needed."
   ]
  },
  {
   "cell_type": "code",
   "execution_count": null,
   "id": "40507f08",
   "metadata": {
    "slideshow": {
     "slide_type": "subslide"
    }
   },
   "outputs": [],
   "source": [
    "# Function using None as a default parameter\n",
    "def append_item_safe(item, item_list=None):\n",
    "    if item_list is None:\n",
    "        item_list = []\n",
    "    item_list.append(item)\n",
    "    return item_list\n",
    "\n",
    "# Calling the function correctly\n",
    "print(append_item_safe(\"Apple\"))  # [\"Apple\"]\n",
    "print(append_item_safe(\"Banana\"))  # [\"Banana\"]"
   ]
  },
  {
   "cell_type": "code",
   "execution_count": 2,
   "id": "9daf7388",
   "metadata": {
    "slideshow": {
     "slide_type": "subslide"
    }
   },
   "outputs": [
    {
     "name": "stdout",
     "output_type": "stream",
     "text": [
      "['apple', 'banana']\n",
      "['apple', 'banana', 'cherry', 'soda']\n"
     ]
    }
   ],
   "source": [
    "# Example\n",
    "def go_shopping(item_one, item_two, shopping_list=[]):\n",
    "    shopping_list.append(item_one)\n",
    "    shopping_list.append(item_two)\n",
    "    return shopping_list\n",
    "\n",
    "print(go_shopping(\"apple\", \"banana\"))\n",
    "print(go_shopping(\"cherry\", \"soda\"))"
   ]
  },
  {
   "cell_type": "markdown",
   "id": "66814d91",
   "metadata": {
    "slideshow": {
     "slide_type": "slide"
    }
   },
   "source": [
    "# Understanding `*args` in Python\n",
    "- `*args` is used in function definitions to handle an arbitrary number of positional arguments.\n",
    "- It allows functions to be flexible in the number of arguments they accept.\n",
    "- The arguments passed through `*args` are accessed as a tuple within the function."
   ]
  },
  {
   "cell_type": "markdown",
   "id": "745869cd",
   "metadata": {
    "slideshow": {
     "slide_type": "subslide"
    }
   },
   "source": [
    "## Using `*args` in Function Definitions\n",
    "- When defining a function, `*args` collects extra positional arguments.\n",
    "- These arguments are not named in the function signature.\n",
    "- It's a convention to name it `args`, but any name can be used after the `*`."
   ]
  },
  {
   "cell_type": "code",
   "execution_count": 3,
   "id": "b2245382",
   "metadata": {
    "slideshow": {
     "slide_type": "subslide"
    }
   },
   "outputs": [
    {
     "name": "stdout",
     "output_type": "stream",
     "text": [
      "<class 'tuple'>\n",
      "<class 'tuple'>\n",
      "Sum1: 6\n",
      "Sum2: 30\n"
     ]
    }
   ],
   "source": [
    "# Function using *args\n",
    "def calculate_sum(*numbers):\n",
    "    print(type(numbers))\n",
    "    return sum(numbers)\n",
    "\n",
    "# Example function calls\n",
    "sum1 = calculate_sum(1, 2, 3)\n",
    "sum2 = calculate_sum(4, 5, 6, 7, 8)\n",
    "\n",
    "print(\"Sum1:\", sum1)\n",
    "print(\"Sum2:\", sum2)"
   ]
  },
  {
   "cell_type": "code",
   "execution_count": 4,
   "id": "66236624",
   "metadata": {
    "slideshow": {
     "slide_type": "subslide"
    }
   },
   "outputs": [
    {
     "name": "stdout",
     "output_type": "stream",
     "text": [
      "Hello, Alice!\n",
      "Hello, Bob!\n",
      "Hello, Charlie!\n"
     ]
    }
   ],
   "source": [
    "# Catching additional arguments after positional arguments\n",
    "def greet(greeting, *names):\n",
    "    for name in names:\n",
    "        print(f\"{greeting}, {name}!\")\n",
    "\n",
    "# Example function calls\n",
    "greet(\"Hello\", \"Alice\", \"Bob\", \"Charlie\")"
   ]
  },
  {
   "cell_type": "markdown",
   "id": "070c67b9",
   "metadata": {
    "slideshow": {
     "slide_type": "slide"
    }
   },
   "source": [
    "# Tuple Unpacking with `*args` in Python\n",
    "- The `*args` syntax, commonly known in the context of function definitions, is also a powerful tool for tuple unpacking.\n",
    "- It allows for an elegant way to extract elements from tuples and assign them to variables.\n",
    "- This technique is especially useful when dealing with tuples of variable length.\n",
    "\n",
    "## How `*args` Helps in Tuple Unpacking\n",
    "- `*args` can be used to grab excess items when you have a variable number of elements in a tuple.\n",
    "- It allows for flexible extraction of elements, capturing all the middle items in a list.\n",
    "\n",
    "## Example Usage\n",
    "- Consider a tuple with an unknown number of elements. Using `*args`, we can easily unpack it."
   ]
  },
  {
   "cell_type": "code",
   "execution_count": 5,
   "id": "dac06ad6",
   "metadata": {
    "slideshow": {
     "slide_type": "subslide"
    }
   },
   "outputs": [
    {
     "name": "stdout",
     "output_type": "stream",
     "text": [
      "First: 1, Middle: [2, 3, 4], Last: 5\n"
     ]
    }
   ],
   "source": [
    "# Example of tuple unpacking with *args\n",
    "my_tuple = (1, 2, 3, 4, 5)\n",
    "\n",
    "# Unpacking the tuple\n",
    "first, *middle, last = my_tuple\n",
    "\n",
    "# Displaying the results\n",
    "print(f\"First: {first}, Middle: {middle}, Last: {last}\")"
   ]
  },
  {
   "cell_type": "markdown",
   "id": "d9484a4f",
   "metadata": {
    "slideshow": {
     "slide_type": "slide"
    }
   },
   "source": [
    "# Unpacking Lists with the * Operator in Python\n",
    "\n",
    "The `*` operator in Python is used to unpack list elements. This powerful feature allows for more concise and readable code, especially when working with functions that require multiple arguments.\n",
    "\n",
    "## Key Uses of the * Operator\n",
    "- **Unpacking Into Variables**: Easily assign list elements to individual variables.\n",
    "- **Function Arguments**: Pass elements of a list as separate arguments to a function.\n",
    "- **Merging Lists**: Combine multiple lists or iterables into a single list.\n",
    "\n",
    "### Unpacking Into Function Arguments\n",
    "When calling a function that expects multiple arguments, you can use the `*` operator to unpack elements from a list or tuple directly into the function call. This eliminates the need for manual extraction of each element.\n"
   ]
  },
  {
   "cell_type": "code",
   "execution_count": 6,
   "id": "e039b5a0",
   "metadata": {
    "slideshow": {
     "slide_type": "subslide"
    }
   },
   "outputs": [
    {
     "name": "stdout",
     "output_type": "stream",
     "text": [
      "I have a hamster named Harry.\n"
     ]
    }
   ],
   "source": [
    "def describe_pet(animal_type, pet_name):\n",
    "    \"\"\"Display information about a pet.\"\"\"\n",
    "    print(f\"I have a {animal_type} named {pet_name}.\")\n",
    "\n",
    "# List of pet information\n",
    "pet_details = ['hamster', 'Harry']\n",
    "\n",
    "# Using * to unpack the list into function arguments\n",
    "describe_pet(*pet_details)"
   ]
  },
  {
   "cell_type": "code",
   "execution_count": 7,
   "id": "285e0913",
   "metadata": {
    "slideshow": {
     "slide_type": "subslide"
    }
   },
   "outputs": [
    {
     "name": "stdout",
     "output_type": "stream",
     "text": [
      "Hello, Alice!\n",
      "Hello, Bob!\n",
      "Hello, Charlie!\n",
      "Hello, ['Alice', 'Bob', 'Charlie']!\n",
      "Hello, Alice!\n",
      "Hello, Bob!\n",
      "Hello, Charlie!\n"
     ]
    }
   ],
   "source": [
    "# Catching additional arguments after positional arguments\n",
    "def greet(greeting, *names):\n",
    "    for name in names:\n",
    "        print(f\"{greeting}, {name}!\")\n",
    "\n",
    "# Example function calls\n",
    "greet(\"Hello\", \"Alice\", \"Bob\", \"Charlie\")\n",
    "greet(\"Hello\", [\"Alice\", \"Bob\", \"Charlie\"])\n",
    "greet(\"Hello\", *[\"Alice\", \"Bob\", \"Charlie\"])"
   ]
  },
  {
   "cell_type": "code",
   "execution_count": 8,
   "id": "a6560ece",
   "metadata": {
    "slideshow": {
     "slide_type": "subslide"
    }
   },
   "outputs": [
    {
     "name": "stdout",
     "output_type": "stream",
     "text": [
      "apple banana cherry\n",
      "['apple', 'banana', 'cherry', 'carrot', 'broccoli']\n"
     ]
    }
   ],
   "source": [
    "# Unpacking a list into variables\n",
    "fruits = ['apple', 'banana', 'cherry']\n",
    "fruit1, fruit2, fruit3 = fruits\n",
    "print(fruit1, fruit2, fruit3)\n",
    "\n",
    "# Merging lists using *\n",
    "vegetables = ['carrot', 'broccoli']\n",
    "food_items = [*fruits, *vegetables]\n",
    "print(food_items)"
   ]
  },
  {
   "cell_type": "code",
   "execution_count": null,
   "id": "3072171f",
   "metadata": {
    "slideshow": {
     "slide_type": "slide"
    }
   },
   "outputs": [],
   "source": [
    "# how can we ensure that we only pass in keywords? \n",
    "greet(greeting=\"Hello\", name=\"Alice\")"
   ]
  },
  {
   "cell_type": "code",
   "execution_count": 11,
   "id": "ba39cf50",
   "metadata": {
    "slideshow": {
     "slide_type": "subslide"
    }
   },
   "outputs": [
    {
     "ename": "TypeError",
     "evalue": "greet() takes 0 positional arguments but 1 positional argument (and 1 keyword-only argument) were given",
     "output_type": "error",
     "traceback": [
      "\u001b[0;31m---------------------------------------------------------------------------\u001b[0m",
      "\u001b[0;31mTypeError\u001b[0m                                 Traceback (most recent call last)",
      "Cell \u001b[0;32mIn[11], line 5\u001b[0m\n\u001b[1;32m      2\u001b[0m \u001b[38;5;28;01mdef\u001b[39;00m \u001b[38;5;21mgreet\u001b[39m(\u001b[38;5;241m*\u001b[39m, name, message):\n\u001b[1;32m      3\u001b[0m     \u001b[38;5;28;01mreturn\u001b[39;00m \u001b[38;5;124mf\u001b[39m\u001b[38;5;124m\"\u001b[39m\u001b[38;5;132;01m{\u001b[39;00mmessage\u001b[38;5;132;01m}\u001b[39;00m\u001b[38;5;124m, \u001b[39m\u001b[38;5;132;01m{\u001b[39;00mname\u001b[38;5;132;01m}\u001b[39;00m\u001b[38;5;124m!\u001b[39m\u001b[38;5;124m\"\u001b[39m\n\u001b[0;32m----> 5\u001b[0m \u001b[38;5;28mprint\u001b[39m(greet(\u001b[38;5;124m\"\u001b[39m\u001b[38;5;124mAlice\u001b[39m\u001b[38;5;124m\"\u001b[39m, message\u001b[38;5;241m=\u001b[39m\u001b[38;5;124m\"\u001b[39m\u001b[38;5;124mWelcome\u001b[39m\u001b[38;5;124m\"\u001b[39m))\n",
      "\u001b[0;31mTypeError\u001b[0m: greet() takes 0 positional arguments but 1 positional argument (and 1 keyword-only argument) were given"
     ]
    }
   ],
   "source": [
    "# how can we ensure that we only pass in variables as keywords?\n",
    "def greet(*, name, message):\n",
    "    return f\"{message}, {name}!\"\n",
    "\n",
    "print(greet(name=\"Alice\", message=\"Welcome\"))"
   ]
  },
  {
   "cell_type": "markdown",
   "id": "f488d923",
   "metadata": {
    "slideshow": {
     "slide_type": "slide"
    }
   },
   "source": [
    "# Understanding `**kwargs` in Python\n",
    "- `**kwargs` allows for handling arbitrary numbers of keyword arguments.\n",
    "- Useful for configurations or settings with many optional parameters.\n",
    "- Within the function, `kwargs` is a dictionary mapping each keyword to its value."
   ]
  },
  {
   "cell_type": "code",
   "execution_count": 13,
   "id": "48c35dc6",
   "metadata": {
    "slideshow": {
     "slide_type": "subslide"
    }
   },
   "outputs": [
    {
     "name": "stdout",
     "output_type": "stream",
     "text": [
      "{'age': 30, 'city': 'New York'}\n",
      "{'age': 25, 'occupation': 'Developer', 'city': 'San Francisco'}\n",
      "Profile 1: {'name': 'Alice', 'age': 30, 'city': 'New York'}\n",
      "Profile 2: {'name': 'Bob', 'age': 25, 'occupation': 'Developer', 'city': 'San Francisco'}\n"
     ]
    }
   ],
   "source": [
    "# Function using **kwargs\n",
    "def create_profile(name, **details):\n",
    "    print(details)\n",
    "    profile = {'name': name}\n",
    "    profile.update(details)\n",
    "    return profile\n",
    "\n",
    "# Example function calls\n",
    "profile1 = create_profile(\"Alice\", age=30, city=\"New York\")\n",
    "profile2 = create_profile(\"Bob\", age=25, occupation=\"Developer\", city=\"San Francisco\")\n",
    "\n",
    "print(\"Profile 1:\", profile1)\n",
    "print(\"Profile 2:\", profile2)"
   ]
  },
  {
   "cell_type": "markdown",
   "id": "e57114b1",
   "metadata": {
    "slideshow": {
     "slide_type": "subslide"
    }
   },
   "source": [
    "## Combining `*args` and `**kwargs`\n",
    "- Both `*args` and `**kwargs` can be used in the same function to handle a flexible number of positional and keyword arguments."
   ]
  },
  {
   "cell_type": "code",
   "execution_count": 14,
   "id": "37de9924",
   "metadata": {
    "slideshow": {
     "slide_type": "subslide"
    }
   },
   "outputs": [
    {
     "name": "stdout",
     "output_type": "stream",
     "text": [
      "Environment setup: {'packages': ('numpy', 'pandas'), 'settings': {'version': '1.0', 'optimize': True}}\n"
     ]
    }
   ],
   "source": [
    "# Function using both *args and **kwargs\n",
    "def setup_environment(*packages, **settings):\n",
    "    return {\"packages\": packages, \"settings\": settings}\n",
    "\n",
    "# Example function call\n",
    "environment = setup_environment(\"numpy\", \"pandas\", version=\"1.0\", optimize=True)\n",
    "\n",
    "print(\"Environment setup:\", environment)"
   ]
  },
  {
   "cell_type": "markdown",
   "id": "b6dd32ea",
   "metadata": {
    "slideshow": {
     "slide_type": "slide"
    }
   },
   "source": [
    "## Ambiguous arguments?\n",
    "- When things are ambiguous, the following rule applies\n",
    "- `def function(arg1, ..., argn, *args, kwarg1, ... kwargn, **kwargs)`"
   ]
  },
  {
   "cell_type": "code",
   "execution_count": null,
   "id": "662594f7",
   "metadata": {
    "slideshow": {
     "slide_type": "subslide"
    }
   },
   "outputs": [],
   "source": [
    "# Function with arg, *args, kwarg, **kwargs\n",
    "def function(arg, *args, kwarg, **kwargs):\n",
    "    print(\"arg:\", arg)\n",
    "    print(\"args:\", args)\n",
    "    print(\"kwarg:\", kwarg)\n",
    "    print(\"kwargs:\", kwargs)\n",
    "\n",
    "arg_tuple = (2, 3)\n",
    "# Example function call\n",
    "function(1, 2, 3, kwarg=4, kwarg2=5, kwarg3=6)\n",
    "function(1, *arg_tuple, kwarg=4, kwarg2=5, kwarg3=6)"
   ]
  },
  {
   "cell_type": "markdown",
   "id": "1aaaf5dc",
   "metadata": {
    "slideshow": {
     "slide_type": "slide"
    }
   },
   "source": [
    "# Understanding Nested Functions in Python\n",
    "\n",
    "Nested functions, or functions defined within other functions, are a powerful feature of Python that allow for more organized and modular code. This concept is particularly useful for encapsulating functionality that is relevant only within a broader function's context.\n",
    "\n",
    "## Advantages of Nested Functions\n",
    "- **Encapsulation**: Keeps the function's logic self-contained and clear.\n",
    "- **Memory Efficiency**: Nested functions can access variables of the enclosing scope, reducing the need for global variables.\n",
    "- **Higher Order Functions**: Facilitates the creation of decorators and other patterns where a function returns another function.\n",
    "\n",
    "### Unlimited Nesting\n",
    "Python supports unlimited nesting of functions, meaning you can define functions within functions within functions, and so on. This feature, while powerful, should be used judiciously to maintain code readability and avoid complexity.\n"
   ]
  },
  {
   "cell_type": "code",
   "execution_count": 15,
   "id": "cc19283e",
   "metadata": {
    "slideshow": {
     "slide_type": "subslide"
    }
   },
   "outputs": [
    {
     "name": "stdout",
     "output_type": "stream",
     "text": [
      "HELLO\n",
      "24\n"
     ]
    }
   ],
   "source": [
    "def outer_function(text):\n",
    "    # Outer function\n",
    "    def inner_function():\n",
    "        # Inner function\n",
    "        return text.upper()\n",
    "    \n",
    "    result = inner_function()\n",
    "    return result\n",
    "\n",
    "# Using the nested function\n",
    "print(outer_function(\"hello\"))\n",
    "\n",
    "# Demonstrating unlimited nesting\n",
    "def first_level(n):\n",
    "    def second_level(m):\n",
    "        def third_level(x):\n",
    "            return n * m * x\n",
    "        return third_level\n",
    "    return second_level\n",
    "\n",
    "# Using the nested functions\n",
    "result_function = first_level(2)(3)\n",
    "print(result_function(4))"
   ]
  },
  {
   "cell_type": "markdown",
   "id": "5bb40cb1",
   "metadata": {
    "slideshow": {
     "slide_type": "slide"
    }
   },
   "source": [
    "## Functional Programming in Python\n",
    "- Makes Python even more versatile as it can act like OCaml, Haskell\n",
    "- Makes code cleaner, easier to use, prettier\n",
    "- Don't have to like programming to enjoy it\n",
    "- Functions are treated as objects in Python"
   ]
  },
  {
   "cell_type": "markdown",
   "id": "44500bdd",
   "metadata": {
    "slideshow": {
     "slide_type": "slide"
    }
   },
   "source": [
    "# What is Functional Programming?\n",
    "- Functional programming is a paradigm that treats computation as the evaluation of mathematical functions.\n",
    "- It typically involves immutable data and stateless execution.\n",
    "- While Python is not a purely functional language, it supports many functional programming concepts."
   ]
  },
  {
   "cell_type": "markdown",
   "id": "1e9fdd7f",
   "metadata": {
    "slideshow": {
     "slide_type": "slide"
    }
   },
   "source": [
    "## Lambda Functions: Anonymous Functions in Python\n",
    "- Lambda functions are anonymous, nameless functions defined with the `lambda` keyword.\n",
    "- They are concise and can be used for short, throwaway functions.\n",
    "- Suitable for simple operations that can be expressed in a single expression.\n",
    "\n",
    "## Syntax of Lambda Functions\n",
    "- The syntax: `lambda arguments: expression`.\n",
    "- Lambda functions can accept any number of arguments, including `*args` and `**kwargs`."
   ]
  },
  {
   "cell_type": "code",
   "execution_count": 16,
   "id": "71d217b3",
   "metadata": {
    "slideshow": {
     "slide_type": "subslide"
    }
   },
   "outputs": [
    {
     "name": "stdout",
     "output_type": "stream",
     "text": [
      "Square of 5: 25\n",
      "Sum of 3 and 4: 7\n",
      "Sum of 5 and 6: 11\n"
     ]
    }
   ],
   "source": [
    "# Example of a lambda function\n",
    "square = lambda x: x * x\n",
    "print(\"Square of 5:\", square(5))\n",
    "\n",
    "# Lambda with multiple arguments\n",
    "add = lambda x, y: x + y\n",
    "print(\"Sum of 3 and 4:\", add(3, 4))\n",
    "print(\"Sum of 5 and 6:\", add(x=5, y=6))"
   ]
  },
  {
   "cell_type": "markdown",
   "id": "29f7fd73",
   "metadata": {
    "slideshow": {
     "slide_type": "subslide"
    }
   },
   "source": [
    "# But you said anonymous? Those have names..."
   ]
  },
  {
   "cell_type": "code",
   "execution_count": 17,
   "id": "b9e6a6df",
   "metadata": {
    "slideshow": {
     "slide_type": "subslide"
    }
   },
   "outputs": [
    {
     "name": "stdout",
     "output_type": "stream",
     "text": [
      "25\n"
     ]
    }
   ],
   "source": [
    "# You can pass in functions as arguments\n",
    "def use_function(some_function): \n",
    "    result = some_function(5)\n",
    "    print(result)\n",
    "\n",
    "# Passing a lambda function as an argument\n",
    "use_function(lambda x: x * x)"
   ]
  },
  {
   "cell_type": "code",
   "execution_count": 20,
   "id": "f4423f1f",
   "metadata": {
    "slideshow": {
     "slide_type": "subslide"
    }
   },
   "outputs": [
    {
     "name": "stdout",
     "output_type": "stream",
     "text": [
      "<class 'function'>\n",
      "25\n",
      "True\n",
      "Square of 5: 25\n",
      "[25, 125, 625]\n"
     ]
    }
   ],
   "source": [
    "# Functions serve as objects\n",
    "def square(x):\n",
    "    return x * x\n",
    "\n",
    "def cube(x):\n",
    "    return x * x * x\n",
    "\n",
    "def quartic(x):\n",
    "    return x ** 4\n",
    "\n",
    "print(type(square))  # <class 'function'>\n",
    "\n",
    "number_times_number = square\n",
    "print(number_times_number(5))\n",
    "print(square is number_times_number)\n",
    "\n",
    "# Creating a list of functions\n",
    "functions = [square, cube, quartic]\n",
    "\n",
    "print(\"Square of 5:\", functions[0](5))\n",
    "\n",
    "# list of all the functions applied to 5?\n",
    "lst = [x(5) for x in functions]\n",
    "print(lst)"
   ]
  },
  {
   "cell_type": "code",
   "execution_count": null,
   "id": "5f216290",
   "metadata": {
    "slideshow": {
     "slide_type": "subslide"
    }
   },
   "outputs": [],
   "source": [
    "## Lets create the standard Map and Filter function\n",
    "numbers = [1, 2, 3, 4, 5]"
   ]
  },
  {
   "cell_type": "code",
   "execution_count": null,
   "id": "8bf5503b",
   "metadata": {
    "slideshow": {
     "slide_type": "subslide"
    }
   },
   "outputs": [],
   "source": [
    "numbers = [1, 2, 3, 4, 5]\n",
    "\n",
    "def map_function(func, lst):\n",
    "    return_list = []\n",
    "    for item in lst:\n",
    "        return_list.append(func(item))\n",
    "\n",
    "# want to be able to run this\n",
    "# map_function(square, numbers)\n",
    "\n",
    "def filter_function(func, lst):\n",
    "    return_list = []\n",
    "    for item in lst:\n",
    "        if func(item):\n",
    "            return_list.append(item)\n",
    "\n",
    "# want to be able to run this\n",
    "# filter_function(lambda x: x % 2 == 0, numbers)"
   ]
  },
  {
   "cell_type": "markdown",
   "id": "f1905c63",
   "metadata": {
    "slideshow": {
     "slide_type": "subslide"
    }
   },
   "source": [
    "### Map and Filter are both included as built-ins!"
   ]
  },
  {
   "cell_type": "code",
   "execution_count": 21,
   "id": "09b462cc",
   "metadata": {
    "slideshow": {
     "slide_type": "subslide"
    }
   },
   "outputs": [
    {
     "name": "stdout",
     "output_type": "stream",
     "text": [
      "Squared: [1, 4, 9, 16, 25]\n",
      "Even: [2, 4]\n"
     ]
    }
   ],
   "source": [
    "# using built-in map & filter\n",
    "numbers = [1, 2, 3, 4, 5]\n",
    "\n",
    "squared = map(lambda x: x * x, numbers)\n",
    "even = filter(lambda x: x % 2 == 0, numbers)\n",
    "\n",
    "print(\"Squared:\", list(squared))\n",
    "print(\"Even:\", list(even))"
   ]
  },
  {
   "cell_type": "markdown",
   "id": "de9b16d1",
   "metadata": {
    "slideshow": {
     "slide_type": "slide"
    }
   },
   "source": [
    "## functools Module: Functional Utilities\n",
    "- The `functools` module provides higher-order functions and operations on callable objects.\n",
    "\n",
    "### Using functools.partial\n",
    "- `functools.partial` is used to \"freeze\" some portion of a function's arguments.\n",
    "\n",
    "### Using functools.reduce\n",
    "- `functools.reduce` applies a function of two arguments cumulatively to the items of an iterable.\n",
    "- This is just like fold from CIS 1200!"
   ]
  },
  {
   "cell_type": "code",
   "execution_count": 22,
   "id": "ef6c091c",
   "metadata": {
    "slideshow": {
     "slide_type": "subslide"
    }
   },
   "outputs": [
    {
     "name": "stdout",
     "output_type": "stream",
     "text": [
      "Add 5 to 10: 15\n",
      "Sum of numbers: 15\n"
     ]
    }
   ],
   "source": [
    "import functools\n",
    "\n",
    "numbers = [1, 2, 3, 4, 5]\n",
    "add = lambda x, y: x + y\n",
    "\n",
    "# Using functools.partial\n",
    "add_five = functools.partial(add, 5)\n",
    "print(\"Add 5 to 10:\", add_five(10))\n",
    "\n",
    "# Using functools.reduce\n",
    "sum_of_numbers = functools.reduce(lambda x, y: x + y, numbers, 0)\n",
    "print(\"Sum of numbers:\", sum_of_numbers)"
   ]
  },
  {
   "cell_type": "markdown",
   "id": "05c383df",
   "metadata": {
    "slideshow": {
     "slide_type": "subslide"
    }
   },
   "source": [
    "## Other Functional Utilities in Python\n",
    "- Functions like `sorted()`, `max()`, and `min()` accept a `key` parameter for custom comparison logic.\n",
    "\n",
    "### Using the key Parameter\n",
    "- The `key` parameter is used for custom sorting or comparison based on a specific property of elements."
   ]
  },
  {
   "cell_type": "code",
   "execution_count": 28,
   "id": "28bb89f5",
   "metadata": {
    "slideshow": {
     "slide_type": "subslide"
    }
   },
   "outputs": [
    {
     "name": "stdout",
     "output_type": "stream",
     "text": [
      "Words sorted by length: ['bananas', 'cherry', 'apple']\n"
     ]
    }
   ],
   "source": [
    "# Using the key parameter in sorted\n",
    "words = [\"bananas\", \"apple\", \"cherry\"]\n",
    "sorted_words = sorted(words, key=lambda s: len(s))\n",
    "print(\"Words sorted by length:\", sorted_words[::-1])\n",
    "\n",
    "# similar to implementing comparable / comparator in Java"
   ]
  },
  {
   "cell_type": "code",
   "execution_count": 29,
   "id": "bcc71b26",
   "metadata": {
    "slideshow": {
     "slide_type": "slide"
    }
   },
   "outputs": [
    {
     "name": "stdout",
     "output_type": "stream",
     "text": [
      "9227465\n",
      "Time taken: 0.804192066192627\n"
     ]
    }
   ],
   "source": [
    "import time\n",
    "\n",
    "def fibonacci(n):\n",
    "    if n <= 1:\n",
    "        return n\n",
    "    else:\n",
    "        return fibonacci(n-1) + fibonacci(n-2)\n",
    "\n",
    "beginning = time.time()\n",
    "print(fibonacci(35))\n",
    "end = time.time()\n",
    "print(\"Time taken:\", end - beginning)"
   ]
  },
  {
   "cell_type": "code",
   "execution_count": 30,
   "id": "9bf28e1a",
   "metadata": {
    "slideshow": {
     "slide_type": "subslide"
    }
   },
   "outputs": [
    {
     "name": "stdout",
     "output_type": "stream",
     "text": [
      "9227465\n",
      "Time taken: 0.003312826156616211\n"
     ]
    }
   ],
   "source": [
    "def fibonacci_with_caching(n, cache={}):\n",
    "    if n in cache:\n",
    "        return cache[n]\n",
    "    if n <= 1:\n",
    "        return n\n",
    "    else:\n",
    "        cache[n] = fibonacci_with_caching(n-1) + fibonacci_with_caching(n-2)\n",
    "        return cache[n]\n",
    "    \n",
    "beginning = time.time()\n",
    "print(fibonacci_with_caching(35))\n",
    "end = time.time()\n",
    "\n",
    "print(\"Time taken:\", end - beginning)"
   ]
  },
  {
   "cell_type": "markdown",
   "id": "b41e0544",
   "metadata": {
    "slideshow": {
     "slide_type": "slide"
    }
   },
   "source": [
    "# Motivating Python Decorators: `@lru_cache`\n",
    "- Decorators are a powerful feature in Python, allowing us to modify or enhance the behavior of functions or methods.\n",
    "- A practical example is the `@lru_cache` decorator from the `functools` module.\n",
    "- It optimizes function calls by caching results of expensive function calls.\n",
    "\n",
    "## Example: Using `@lru_cache`\n",
    "- `@lru_cache` stores the results of function calls, making subsequent calls with the same arguments faster."
   ]
  },
  {
   "cell_type": "code",
   "execution_count": 32,
   "id": "8cbfd7e4",
   "metadata": {
    "slideshow": {
     "slide_type": "subslide"
    }
   },
   "outputs": [
    {
     "name": "stdout",
     "output_type": "stream",
     "text": [
      "102334155\n",
      "Time taken: 8.588428020477295\n"
     ]
    }
   ],
   "source": [
    "import time\n",
    "\n",
    "# fibonacci sequence without lru_cache\n",
    "def fibonacci(n):\n",
    "    if n < 2:\n",
    "        return n\n",
    "    return fibonacci(n - 1) + fibonacci(n - 2)\n",
    "\n",
    "start = time.time()\n",
    "print(fibonacci(40))\n",
    "end = time.time()\n",
    "\n",
    "print(\"Time taken:\", end - start)"
   ]
  },
  {
   "cell_type": "code",
   "execution_count": 35,
   "id": "cac7fedd",
   "metadata": {
    "slideshow": {
     "slide_type": "subslide"
    }
   },
   "outputs": [
    {
     "name": "stdout",
     "output_type": "stream",
     "text": [
      "None\n",
      "None\n",
      "Time taken: 3.01159405708313\n"
     ]
    }
   ],
   "source": [
    "from functools import lru_cache\n",
    "import time\n",
    "\n",
    "@lru_cache(maxsize=40)\n",
    "def fibonacci(n):\n",
    "    time.sleep(n)\n",
    "\n",
    "start = time.time()\n",
    "print(fibonacci(3))\n",
    "print(fibonacci(3))\n",
    "end = time.time()\n",
    "\n",
    "print(\"Time taken:\", end - start)\n",
    "\n",
    "# what do you think is going on with the decorator?"
   ]
  },
  {
   "cell_type": "markdown",
   "id": "4c366926",
   "metadata": {
    "slideshow": {
     "slide_type": "slide"
    }
   },
   "source": [
    "# Understanding Decorators in Python\n",
    "- Decorators are functions that take another function as an argument and return a new function.\n",
    "- They provide a clean and readable way to modify or extend the behavior of existing functions.\n",
    "\n",
    "## How Decorators Function\n",
    "- When you decorate a function, you're effectively replacing it with a modified version of itself.\n",
    "- This pattern is powerful for adding functionality to existing code in a consistent manner."
   ]
  },
  {
   "cell_type": "markdown",
   "id": "016dca36",
   "metadata": {
    "slideshow": {
     "slide_type": "subslide"
    }
   },
   "source": [
    "## Why Use Decorators?\n",
    "- Decorators offer a clear syntax for extending the behavior of functions without modifying their code directly.\n",
    "- They promote code reuse and can make code more readable and maintainable.\n",
    "- Common use cases include logging, timing, access control, and caching."
   ]
  },
  {
   "cell_type": "markdown",
   "id": "6afa158b",
   "metadata": {
    "slideshow": {
     "slide_type": "subslide"
    }
   },
   "source": [
    "## Creating a Simple Decorator\n",
    "- Let's create a basic decorator to understand the underlying mechanism.\n",
    "\n",
    "### Example: A Decorator that Prints a Message\n",
    "- This decorator will print a message before and after the execution of a function."
   ]
  },
  {
   "cell_type": "code",
   "execution_count": 38,
   "id": "81e27ac7",
   "metadata": {
    "slideshow": {
     "slide_type": "subslide"
    }
   },
   "outputs": [
    {
     "ename": "TypeError",
     "evalue": "simple_decorator.<locals>.wrapper() takes 0 positional arguments but 1 was given",
     "output_type": "error",
     "traceback": [
      "\u001b[0;31m---------------------------------------------------------------------------\u001b[0m",
      "\u001b[0;31mTypeError\u001b[0m                                 Traceback (most recent call last)",
      "Cell \u001b[0;32mIn[38], line 15\u001b[0m\n\u001b[1;32m     10\u001b[0m     \u001b[38;5;28mprint\u001b[39m(\u001b[38;5;124m\"\u001b[39m\u001b[38;5;124mHello, world!\u001b[39m\u001b[38;5;124m\"\u001b[39m)\n\u001b[1;32m     12\u001b[0m \u001b[38;5;66;03m# doing @simple_decorator is the same as\u001b[39;00m\n\u001b[1;32m     13\u001b[0m \u001b[38;5;66;03m# hello = simple_decorator(hello)\u001b[39;00m\n\u001b[0;32m---> 15\u001b[0m hello(\u001b[38;5;124m\"\u001b[39m\u001b[38;5;124mbob\u001b[39m\u001b[38;5;124m\"\u001b[39m)\n",
      "\u001b[0;31mTypeError\u001b[0m: simple_decorator.<locals>.wrapper() takes 0 positional arguments but 1 was given"
     ]
    }
   ],
   "source": [
    "def simple_decorator(func):\n",
    "    def wrapper():\n",
    "        print(\"Function is about to run\")\n",
    "        func(*args, **kwargs)\n",
    "        print(\"Function has finished running\")\n",
    "    return wrapper\n",
    "\n",
    "@simple_decorator\n",
    "def hello(name):\n",
    "    print(\"Hello, world!\")\n",
    "\n",
    "# doing @simple_decorator is the same as\n",
    "# hello = simple_decorator(hello)\n",
    "\n",
    "hello(\"bob\")\n",
    "\n",
    "# this doesn't work for all functions... why?"
   ]
  },
  {
   "cell_type": "code",
   "execution_count": 39,
   "id": "328321d7",
   "metadata": {
    "slideshow": {
     "slide_type": "subslide"
    }
   },
   "outputs": [
    {
     "name": "stdout",
     "output_type": "stream",
     "text": [
      "Function long_running_function took 1.0050699710845947 seconds to run.\n"
     ]
    }
   ],
   "source": [
    "import time\n",
    "\n",
    "def timer(func):\n",
    "    def wrapper(*args, **kwargs):\n",
    "        start_time = time.time()\n",
    "        result = func(*args, **kwargs)\n",
    "        end_time = time.time()\n",
    "        print(f\"Function {func.__name__} took {end_time - start_time} seconds to run.\")\n",
    "        return result\n",
    "    return wrapper\n",
    "\n",
    "@timer\n",
    "def long_running_function():\n",
    "    time.sleep(1)\n",
    "\n",
    "long_running_function()"
   ]
  },
  {
   "cell_type": "code",
   "execution_count": null,
   "id": "17f8edd2",
   "metadata": {
    "slideshow": {
     "slide_type": "subslide"
    }
   },
   "outputs": [],
   "source": [
    "def arg_logger(func):\n",
    "    def wrapper(*args, **kwargs):\n",
    "        args_dict = {'args': args, 'kwargs': kwargs}\n",
    "        print(f\"Calling {func.__name__} with arguments {args_dict}\")\n",
    "        return func(*args, **kwargs)\n",
    "    return wrapper\n",
    "\n",
    "# Applying the decorator\n",
    "@arg_logger\n",
    "def sample_function(a, b, c=None):\n",
    "    return a + b if c is None else a + b + c\n",
    "\n",
    "# Using the decorated function\n",
    "result = sample_function(1, 2)\n",
    "result_with_c = sample_function(1, 2, c=3)"
   ]
  },
  {
   "cell_type": "markdown",
   "id": "c56d570a",
   "metadata": {
    "slideshow": {
     "slide_type": "slide"
    }
   },
   "source": [
    "# Introduction to Python Classes and Object-Oriented Programming (OOP)\n",
    "- Python, like Java, supports object-oriented programming (OOP), a paradigm that uses classes and objects.\n",
    "- Classes in Python serve as blueprints for creating objects, encapsulating data and behavior.\n",
    "\n",
    "## Understanding Python's Approach to OOP\n",
    "- Python's OOP is about defining structures (classes) that encapsulate data (attributes) and behavior (methods).\n",
    "- Unlike some statically typed languages like Java, Python classes are dynamic.\n",
    "- This dynamic nature allows for modifying and adding properties to classes and instances at runtime."
   ]
  },
  {
   "cell_type": "code",
   "execution_count": 44,
   "id": "0e8a5fa4",
   "metadata": {
    "slideshow": {
     "slide_type": "subslide"
    }
   },
   "outputs": [],
   "source": [
    "# basic Car class in Python\n",
    "class Car: \n",
    "    make = \"Toyota\"\n",
    "    model = \"Camry\"\n",
    "\n",
    "my_car = Car()"
   ]
  },
  {
   "cell_type": "markdown",
   "id": "a974cf5b",
   "metadata": {
    "slideshow": {
     "slide_type": "slide"
    }
   },
   "source": [
    "## Accessing and Modifying Attributes with getattr and setattr\n",
    "- Python provides built-in functions `getattr` and `setattr` for accessing and setting attributes of an object.\n",
    "- `getattr(obj, 'attribute')` returns the value of 'attribute', while `setattr(obj, 'attribute', value)` sets it.\n",
    "- These functions are particularly useful for dynamic attribute manipulation.\n",
    "\n",
    "### Using getattr and setattr\n",
    "- We use `getattr` to retrieve the value of `make` and `setattr` to change the value of `model`.\n",
    "- If an attribute doesn't exist, `setattr` can add it dynamically."
   ]
  },
  {
   "cell_type": "code",
   "execution_count": 45,
   "id": "6372c69c",
   "metadata": {
    "slideshow": {
     "slide_type": "subslide"
    }
   },
   "outputs": [
    {
     "name": "stdout",
     "output_type": "stream",
     "text": [
      "Toyota\n",
      "Camry\n",
      "Honda\n",
      "Accord\n"
     ]
    }
   ],
   "source": [
    "# accessing using getattr\n",
    "print(getattr(my_car, \"make\"))\n",
    "print(getattr(my_car, \"model\"))\n",
    "\n",
    "# setting using setattr\n",
    "setattr(my_car, \"make\", \"Honda\")\n",
    "setattr(my_car, \"model\", \"Accord\")\n",
    "\n",
    "print(getattr(my_car, \"make\"))\n",
    "print(getattr(my_car, \"model\"))"
   ]
  },
  {
   "cell_type": "markdown",
   "id": "2b0c076e",
   "metadata": {
    "slideshow": {
     "slide_type": "subslide"
    }
   },
   "source": [
    "## Accessing and Modifying Attributes with Dot Notation\n",
    "- In Python, you can access and modify attributes of an object using dot notation. \n",
    "- This provides a more concise and intuitive way to work with object attributes.\n"
   ]
  },
  {
   "cell_type": "code",
   "execution_count": 46,
   "id": "841588e9",
   "metadata": {
    "slideshow": {
     "slide_type": "subslide"
    }
   },
   "outputs": [
    {
     "name": "stdout",
     "output_type": "stream",
     "text": [
      "Honda\n",
      "Accord\n",
      "2018\n",
      "Red\n"
     ]
    }
   ],
   "source": [
    "# accessing using dot notation\n",
    "print(my_car.make)\n",
    "print(my_car.model)\n",
    "\n",
    "# setting using dot notation\n",
    "my_car.make = \"Toyota\"\n",
    "my_car.model = \"Camry\"\n",
    "\n",
    "# adding a nonexisting attribute\n",
    "setattr(my_car, \"year\", 2018)\n",
    "\n",
    "# accessing the new attribute\n",
    "print(my_car.year)\n",
    "\n",
    "# adding nonexisting attribute using dot notation\n",
    "my_car.color = \"Red\"\n",
    "\n",
    "# accessing the new attribute\n",
    "print(my_car.color)"
   ]
  },
  {
   "cell_type": "code",
   "execution_count": 47,
   "id": "9cd2dd96",
   "metadata": {
    "slideshow": {
     "slide_type": "subslide"
    }
   },
   "outputs": [
    {
     "name": "stdout",
     "output_type": "stream",
     "text": [
      "{'make': 'Toyota', 'model': 'Camry', 'year': 2018, 'color': 'Red'}\n",
      "['__class__', '__delattr__', '__dict__', '__dir__', '__doc__', '__eq__', '__format__', '__ge__', '__getattribute__', '__getstate__', '__gt__', '__hash__', '__init__', '__init_subclass__', '__le__', '__lt__', '__module__', '__ne__', '__new__', '__reduce__', '__reduce_ex__', '__repr__', '__setattr__', '__sizeof__', '__str__', '__subclasshook__', '__weakref__', 'color', 'make', 'model', 'year']\n"
     ]
    }
   ],
   "source": [
    "# everything is stored in __dict__ of the class\n",
    "print(my_car.__dict__)\n",
    "\n",
    "# can also see everything class related in dir\n",
    "print(dir(my_car))"
   ]
  },
  {
   "cell_type": "code",
   "execution_count": 49,
   "id": "158e1690",
   "metadata": {
    "slideshow": {
     "slide_type": "subslide"
    }
   },
   "outputs": [
    {
     "name": "stdout",
     "output_type": "stream",
     "text": [
      "Driving\n"
     ]
    },
    {
     "data": {
      "text/plain": [
       "<function __main__.Car.drive()>"
      ]
     },
     "execution_count": 49,
     "metadata": {},
     "output_type": "execute_result"
    }
   ],
   "source": [
    "# now, lets lean on Java a bit\n",
    "class Car:\n",
    "    make = \"Toyota\"\n",
    "    model = \"Camry\"\n",
    "    \n",
    "    def drive():\n",
    "        print(\"Driving\")\n",
    "\n",
    "my_car = Car()\n",
    "Car.drive()\n",
    "getattr(Car, 'drive')\n",
    "\n",
    "# what about on the Car itself?"
   ]
  },
  {
   "cell_type": "markdown",
   "id": "7f577935",
   "metadata": {
    "slideshow": {
     "slide_type": "slide"
    }
   },
   "source": [
    "# Understanding Methods, Functions, and Bound Methods in Python\n",
    "- In Python, both methods and functions are callable, but they differ in how they are used and defined.\n",
    "\n",
    "## Functions vs. Methods\n",
    "- **Function**: A standalone block of code that performs a specific task. It can be called independently anywhere in your code.\n",
    "- **Method**: A function that is associated with an object. Defined within a class, it can access and modify the object's data.\n",
    "\n",
    "## Bound Methods\n",
    "- A bound method is a method that is tied to a specific object instance.\n",
    "- When you call a method on an object, it becomes a bound method, allowing access to the object's state and attributes."
   ]
  },
  {
   "cell_type": "code",
   "execution_count": null,
   "id": "58c095cf",
   "metadata": {
    "slideshow": {
     "slide_type": "subslide"
    }
   },
   "outputs": [],
   "source": [
    "# these two lines are essentially have the same behavior\n",
    "my_car.drive()\n",
    "Car.drive(my_car)"
   ]
  },
  {
   "cell_type": "code",
   "execution_count": 53,
   "id": "c774846f",
   "metadata": {
    "slideshow": {
     "slide_type": "subslide"
    }
   },
   "outputs": [
    {
     "name": "stdout",
     "output_type": "stream",
     "text": [
      "Driving Toyota\n"
     ]
    }
   ],
   "source": [
    "# you have to add self to every method to use as instance\n",
    "class Car:\n",
    "    make = \"Toyota\"\n",
    "    model = \"Camry\"\n",
    "\n",
    "    # instance method\n",
    "    def drive():\n",
    "        print(f'Driving {self.make}')\n",
    "\n",
    "my_car = Car()\n",
    "Car.drive()"
   ]
  },
  {
   "cell_type": "code",
   "execution_count": 55,
   "id": "5d67509d",
   "metadata": {
    "slideshow": {
     "slide_type": "subslide"
    }
   },
   "outputs": [
    {
     "name": "stdout",
     "output_type": "stream",
     "text": [
      "Driving\n",
      "Honk!\n"
     ]
    }
   ],
   "source": [
    "# otherwise, works like Java\n",
    "class Car:\n",
    "    make = \"Toyota\"\n",
    "    model = \"Camry\"\n",
    "\n",
    "    # instance method\n",
    "    def drive(self):\n",
    "        print(\"Driving\")\n",
    "    \n",
    "    def greet_drive(self, name):\n",
    "        print(f\"Welcome to your {self.make} {self.model}, {name}!\")\n",
    "\n",
    "    # static method\n",
    "    def honk():\n",
    "        print(\"Honk!\")\n",
    "\n",
    "my_car = Car()\n",
    "my_car.drive()\n",
    "Car.honk()"
   ]
  },
  {
   "cell_type": "markdown",
   "id": "9df0d168",
   "metadata": {
    "slideshow": {
     "slide_type": "slide"
    }
   },
   "source": [
    "# Understanding `classmethod` and `staticmethod`\n",
    "\n",
    "In Python, class methods and static methods are used to define methods that are not strictly tied to an instance of a class. They allow us to define functionality related to a class but can be called without creating an instance of the class.\n",
    "\n",
    "## `classmethod`\n",
    "- A `classmethod` receives the class as the first argument instead of `self`.\n",
    "- It can access and modify class state that applies across all instances of the class.\n",
    "- Decorated with `@classmethod`.\n",
    "\n",
    "## `staticmethod`\n",
    "- A `staticmethod` does not receive an implicit first argument.\n",
    "- Essentially the same as regular functions defined inside a class but lives in the class's namespace.\n",
    "- Decorated with `@staticmethod`.\n",
    "\n",
    "### When to Use Them\n",
    "- Use `classmethod` when you need to access or modify the class state.\n",
    "- Use `staticmethod` when the method doesn't access any class or instance-specific data."
   ]
  },
  {
   "cell_type": "code",
   "execution_count": 56,
   "id": "59046a1d",
   "metadata": {
    "slideshow": {
     "slide_type": "subslide"
    }
   },
   "outputs": [
    {
     "name": "stdout",
     "output_type": "stream",
     "text": [
      "1\n",
      "This is a static utility method.\n"
     ]
    }
   ],
   "source": [
    "class DemoClass:\n",
    "    count = 0  # A class variable\n",
    "\n",
    "    @classmethod\n",
    "    def increment_count(cls):\n",
    "        cls.count += 1\n",
    "\n",
    "    @staticmethod\n",
    "    def utility_method():\n",
    "        print(\"This is a static utility method.\")\n",
    "\n",
    "# Calling classmethod\n",
    "DemoClass.increment_count()\n",
    "print(DemoClass.count)  # Output: 1\n",
    "\n",
    "# Calling staticmethod\n",
    "DemoClass.utility_method()  # Output: This is a static utility method."
   ]
  },
  {
   "cell_type": "code",
   "execution_count": 58,
   "id": "36694931",
   "metadata": {
    "slideshow": {
     "slide_type": "subslide"
    }
   },
   "outputs": [
    {
     "name": "stdout",
     "output_type": "stream",
     "text": [
      "Honk!\n"
     ]
    }
   ],
   "source": [
    "# Except you can inherit from multiple classes\n",
    "class Car():\n",
    "    def honk(self):\n",
    "        print(\"Honk!\")\n",
    "\n",
    "class Boat():\n",
    "    def swim(self):\n",
    "        print(\"Horn sound\")\n",
    "\n",
    "class AmphibiousVehicle(Car, Boat):\n",
    "    pass\n",
    "\n",
    "# what do you think this will print? \n",
    "av = AmphibiousVehicle()\n",
    "av.honk()"
   ]
  },
  {
   "cell_type": "markdown",
   "id": "b50a1f02",
   "metadata": {
    "slideshow": {
     "slide_type": "subslide"
    }
   },
   "source": [
    "# Basic Introduction to Method Resolution Order (MRO) in Python\n",
    "\n",
    "Method Resolution Order (MRO) is a fundamental concept in Python's approach to Object-Oriented Programming (OOP), particularly when dealing with multiple inheritance. It determines the order in which Python looks for a method in a hierarchy of classes.\n",
    "\n",
    "## Why MRO Matters\n",
    "- **Clarity**: MRO provides a clear and predictable order for method resolution, which is crucial in complex inheritance structures.\n",
    "- **Avoiding Conflicts**: In multiple inheritance scenarios, the same method could exist in multiple parent classes. MRO helps Python decide which one to use.\n",
    "\n",
    "## How Python Determines MRO\n",
    "- Python uses a specific algorithm, known as C3 Linearization, to calculate the MRO. This ensures that:\n",
    "  - Subclasses come before base classes.\n",
    "  - The order of base classes is preserved.\n",
    "  - The first two rules apply recursively to all base classes.\n",
    "\n",
    "Understanding MRO is essential for designing class hierarchies in Python, especially when utilizing multiple inheritance to ensure predictable and desired behaviors in your programs."
   ]
  },
  {
   "cell_type": "code",
   "execution_count": 59,
   "id": "8855714b",
   "metadata": {
    "slideshow": {
     "slide_type": "subslide"
    }
   },
   "outputs": [
    {
     "name": "stdout",
     "output_type": "stream",
     "text": [
      "FirstChild method\n",
      "[<class '__main__.GrandChild'>, <class '__main__.FirstChild'>, <class '__main__.SecondChild'>, <class '__main__.Base'>, <class 'object'>]\n"
     ]
    }
   ],
   "source": [
    "class Base:\n",
    "    def method(self):\n",
    "        print(\"Base method\")\n",
    "\n",
    "class FirstChild(Base):\n",
    "    def method(self):\n",
    "        print(\"FirstChild method\")\n",
    "\n",
    "class SecondChild(Base):\n",
    "    def method(self):\n",
    "        print(\"SecondChild method\")\n",
    "\n",
    "class GrandChild(FirstChild, SecondChild):\n",
    "    pass\n",
    "\n",
    "# Creating an instance of GrandChild\n",
    "gc_instance = GrandChild()\n",
    "gc_instance.method()\n",
    "print(GrandChild.mro())"
   ]
  },
  {
   "cell_type": "markdown",
   "id": "5e580ba8",
   "metadata": {
    "slideshow": {
     "slide_type": "slide"
    }
   },
   "source": [
    "# Simplified Explanation of `@property` in Python\n",
    "\n",
    "In Python, the `@property` decorator is a built-in way to create and manage attributes in classes without directly exposing the attribute's implementation. It's like creating a \"smart\" attribute with some logic behind it.\n",
    "\n",
    "## Why Use `@property`?\n",
    "- **Control**: It gives you control over the value of a property with the ability to add logic inside its getter method.\n",
    "- **Readability**: Accessing attributes through properties makes your code more readable and maintainable.\n",
    "- **No Need for Explicit Getter Methods**: Instead of calling a method like `get_radius()`, you can simply access the attribute with `circle.radius`.\n",
    "\n",
    "### Using `@property`\n",
    "Decorate a method in a class with `@property` to let Python know it's a property. This method then acts as the getter for the property.\n",
    "\n",
    "### Key Point\n",
    "- The `@property` decorator is ideal for when you need to add some control or logic when accessing an attribute but want to keep the simplicity of attribute access.\n"
   ]
  },
  {
   "cell_type": "code",
   "execution_count": 69,
   "id": "9b63a0e4",
   "metadata": {
    "slideshow": {
     "slide_type": "subslide"
    }
   },
   "outputs": [
    {
     "name": "stdout",
     "output_type": "stream",
     "text": [
      "5\n",
      "10\n"
     ]
    }
   ],
   "source": [
    "class Circle:\n",
    "    def __init__(self, radius):\n",
    "        self._radius = radius\n",
    "\n",
    "    @property\n",
    "    def radius(self):\n",
    "        \"\"\"Return the radius with potential logic before access.\"\"\"\n",
    "        # Logic can be added here, e.g., logging, computation, etc.\n",
    "        return self._radius\n",
    "\n",
    "# Creating an instance of Circle\n",
    "circle = Circle(5)\n",
    "print(circle.radius)  # Accesses the radius property\n",
    "print(circle.radius)\n",
    "\n",
    "# can I just do circle.radius = 10? "
   ]
  },
  {
   "cell_type": "code",
   "execution_count": 64,
   "id": "d75aefeb",
   "metadata": {
    "slideshow": {
     "slide_type": "subslide"
    }
   },
   "outputs": [
    {
     "name": "stdout",
     "output_type": "stream",
     "text": [
      "25\n"
     ]
    }
   ],
   "source": [
    "\n",
    "### Python Code Slide: Demonstrating `@property` with Setter and Deleter\n",
    "class Temperature:\n",
    "    def __init__(self, celsius):\n",
    "        self._celsius = celsius\n",
    "\n",
    "    @property\n",
    "    def celsius(self):\n",
    "        return self._celsius\n",
    "\n",
    "    @celsius.setter\n",
    "    def celsius(self, value):\n",
    "        if value < -273.15:\n",
    "            raise ValueError(\"Temperature below absolute zero!\")\n",
    "        self._celsius = value\n",
    "\n",
    "    @celsius.deleter\n",
    "    def celsius(self):\n",
    "        del self._celsius\n",
    "\n",
    "temp = Temperature(25)\n",
    "print(temp.celsius)\n",
    "\n",
    "temp.celsius = -200  # Should raise ValueError\n",
    "\n",
    "del temp.celsius"
   ]
  },
  {
   "cell_type": "markdown",
   "id": "f0691eb3",
   "metadata": {
    "slideshow": {
     "slide_type": "slide"
    }
   },
   "source": [
    "# The `__init__` Method in Python Classes\n",
    "- The `__init__` method, known as the initializer or constructor, is fundamental in Python classes.\n",
    "- It's automatically invoked when a new instance of a class is created.\n",
    "- This method initializes the instance's attributes and performs any necessary setup.\n",
    "\n",
    "## Using `__init__` for Initialization\n",
    "- The `__init__` method can take arguments to customize the initialization of the instance.\n",
    "- The first argument is always `self`, which represents the instance."
   ]
  },
  {
   "cell_type": "code",
   "execution_count": 65,
   "id": "95693826",
   "metadata": {
    "slideshow": {
     "slide_type": "subslide"
    }
   },
   "outputs": [
    {
     "name": "stdout",
     "output_type": "stream",
     "text": [
      "Toyota Corolla\n"
     ]
    }
   ],
   "source": [
    "# Defining a class with an __init__ method\n",
    "class Car:\n",
    "    def __init__(self, make, model):\n",
    "        self.make = make\n",
    "        self.model = model\n",
    "\n",
    "# Creating an instance of the Car class\n",
    "my_car = Car('Toyota', 'Corolla')\n",
    "print(my_car.make, my_car.model)  # Output: Toyota Corolla"
   ]
  },
  {
   "cell_type": "markdown",
   "id": "d3e7e18e",
   "metadata": {
    "slideshow": {
     "slide_type": "subslide"
    }
   },
   "source": [
    "# Python's Approach to Private Variables\n",
    "- Unlike languages like Java, Python does not have a concept of strictly enforced private variables.\n",
    "- Instead, Python uses a naming convention to indicate that a variable is intended for internal use.\n",
    "\n",
    "## The Single Underscore (_) Convention\n",
    "- A single underscore `_` prefix in front of a variable or method name is a widely respected convention to suggest it's meant for internal use.\n",
    "- This convention informs other developers that the attribute or method should not be accessed directly, though it can be.\n",
    "- It's important to note that this is not enforced by Python's syntax, but rather a guideline followed by developers.\n",
    "\n",
    "### Example: Indicating Internal Variables\n",
    "- Below is an example of how the single underscore is used to indicate an internal variable in a Python class."
   ]
  },
  {
   "cell_type": "code",
   "execution_count": 66,
   "id": "f424eb22",
   "metadata": {
    "slideshow": {
     "slide_type": "subslide"
    }
   },
   "outputs": [
    {
     "name": "stdout",
     "output_type": "stream",
     "text": [
      "Internal variable make: Toyota\n",
      "Internal variable model: Corolla\n",
      "Internal variable vin: 123231221\n"
     ]
    }
   ],
   "source": [
    "# Defining a class with an internal-use variable\n",
    "class Car:\n",
    "    # assign class variables dynamically\n",
    "    def __init__(self, make, model, vin):\n",
    "        self.make = make\n",
    "        self.model = model\n",
    "        self._vin = vin\n",
    "\n",
    "# Creating an instance and accessing attributes\n",
    "my_car = Car('Toyota', 'Corolla', 123231221)\n",
    "print(\"Internal variable make:\", my_car.make)  # Accessing an internal variable\n",
    "print(\"Internal variable model:\", my_car.model)\n",
    "print(\"Internal variable vin:\", my_car._vin)"
   ]
  },
  {
   "cell_type": "markdown",
   "id": "5c0e4727",
   "metadata": {
    "slideshow": {
     "slide_type": "subslide"
    }
   },
   "source": [
    "## Understanding str and __eq__ Methods in Python\n",
    "- In Python, the str and __eq__ methods play a crucial role in defining string representations and equality checks of objects, similar to Java's toString and equals methods.\n",
    "\n",
    "### The str Method in Python\n",
    "- The str method in Python is similar to the toString method in Java.\n",
    "- It defines how an object should be represented in a human-readable form, typically as a string.\n",
    "- This method is called when you use the str() function or when an object is printed.\n",
    "### The __eq__ Method in Python\n",
    "- The __eq__ method in Python is akin to Java's equals method.\n",
    "- It's used for comparing two objects based on their content, not their memory addresses.\n",
    "- By overriding __eq__, you can define custom equality logic for your objects."
   ]
  },
  {
   "cell_type": "code",
   "execution_count": 70,
   "id": "9cd339c1",
   "metadata": {
    "slideshow": {
     "slide_type": "subslide"
    }
   },
   "outputs": [
    {
     "name": "stdout",
     "output_type": "stream",
     "text": [
      "1984 by George Orwell\n",
      "True\n",
      "False\n"
     ]
    }
   ],
   "source": [
    "# Defining a Python class with custom 'str' and '__eq__' methods\n",
    "class Book:\n",
    "    def __init__(self, title, author):\n",
    "        self.title = title\n",
    "        self.author = author\n",
    "\n",
    "    def __str__(self):\n",
    "        return f\"{self.title} by {self.author}\"\n",
    "\n",
    "    def __eq__(self, other):\n",
    "        if not isinstance(other, Book):\n",
    "            return False\n",
    "        return self.title == other.title and self.author == other.author\n",
    "\n",
    "# Creating instances and demonstrating 'str' and '__eq__' methods\n",
    "book1 = Book('1984', 'George Orwell')\n",
    "book2 = Book('1984', 'George Orwell')\n",
    "book3 = Book('Animal Farm', 'George Orwell')\n",
    "\n",
    "# Using 'str' method\n",
    "print(book1)  # Outputs: \"1984 by George Orwell\"\n",
    "\n",
    "# Using '__eq__' method\n",
    "print(book1 == book2)  # Outputs: True\n",
    "print(book1 == book3)  # Outputs: False"
   ]
  }
 ],
 "metadata": {
  "celltoolbar": "Slideshow",
  "kernelspec": {
   "display_name": "Python 3 (ipykernel)",
   "language": "python",
   "name": "python3"
  },
  "language_info": {
   "codemirror_mode": {
    "name": "ipython",
    "version": 3
   },
   "file_extension": ".py",
   "mimetype": "text/x-python",
   "name": "python",
   "nbconvert_exporter": "python",
   "pygments_lexer": "ipython3",
   "version": "3.11.5"
  }
 },
 "nbformat": 4,
 "nbformat_minor": 5
}
